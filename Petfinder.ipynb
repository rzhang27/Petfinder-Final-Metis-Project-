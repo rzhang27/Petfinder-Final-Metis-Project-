{
 "cells": [
  {
   "cell_type": "markdown",
   "metadata": {},
   "source": [
    "# Predicting Pet Adoption Speeds on Petfinder"
   ]
  },
  {
   "cell_type": "markdown",
   "metadata": {},
   "source": [
    "Dataset can be found on https://www.kaggle.com/c/petfinder-adoption-prediction/data\n",
    "\n",
    "\n",
    "Motivation for this project was to see what makes certain pets more adoptable,\n",
    "and whether or not shelters can influence adoption speed with features outside of a pet's inherent physical traits, such as traits pertaining to the listing's photos and bio/description."
   ]
  },
  {
   "cell_type": "markdown",
   "metadata": {},
   "source": [
    "# Exploratory Data Analysis"
   ]
  },
  {
   "cell_type": "code",
   "execution_count": 1,
   "metadata": {
    "ExecuteTime": {
     "end_time": "2019-09-25T16:39:02.162973Z",
     "start_time": "2019-09-25T16:39:01.638399Z"
    }
   },
   "outputs": [],
   "source": [
    "import numpy as np\n",
    "import pandas as pd\n",
    "import seaborn as sns\n",
    "import matplotlib.pyplot as plt\n",
    "import pickle\n",
    "%matplotlib inline"
   ]
  },
  {
   "cell_type": "code",
   "execution_count": 2,
   "metadata": {
    "ExecuteTime": {
     "end_time": "2019-09-25T16:39:02.252297Z",
     "start_time": "2019-09-25T16:39:02.164388Z"
    },
    "scrolled": true
   },
   "outputs": [
    {
     "data": {
      "text/html": [
       "<div>\n",
       "<style scoped>\n",
       "    .dataframe tbody tr th:only-of-type {\n",
       "        vertical-align: middle;\n",
       "    }\n",
       "\n",
       "    .dataframe tbody tr th {\n",
       "        vertical-align: top;\n",
       "    }\n",
       "\n",
       "    .dataframe thead th {\n",
       "        text-align: right;\n",
       "    }\n",
       "</style>\n",
       "<table border=\"1\" class=\"dataframe\">\n",
       "  <thead>\n",
       "    <tr style=\"text-align: right;\">\n",
       "      <th></th>\n",
       "      <th>Type</th>\n",
       "      <th>Name</th>\n",
       "      <th>Age</th>\n",
       "      <th>Breed1</th>\n",
       "      <th>Breed2</th>\n",
       "      <th>Gender</th>\n",
       "      <th>Color1</th>\n",
       "      <th>Color2</th>\n",
       "      <th>Color3</th>\n",
       "      <th>MaturitySize</th>\n",
       "      <th>...</th>\n",
       "      <th>Health</th>\n",
       "      <th>Quantity</th>\n",
       "      <th>Fee</th>\n",
       "      <th>State</th>\n",
       "      <th>RescuerID</th>\n",
       "      <th>VideoAmt</th>\n",
       "      <th>Description</th>\n",
       "      <th>PetID</th>\n",
       "      <th>PhotoAmt</th>\n",
       "      <th>AdoptionSpeed</th>\n",
       "    </tr>\n",
       "  </thead>\n",
       "  <tbody>\n",
       "    <tr>\n",
       "      <th>0</th>\n",
       "      <td>2</td>\n",
       "      <td>Nibble</td>\n",
       "      <td>3</td>\n",
       "      <td>299</td>\n",
       "      <td>0</td>\n",
       "      <td>1</td>\n",
       "      <td>1</td>\n",
       "      <td>7</td>\n",
       "      <td>0</td>\n",
       "      <td>1</td>\n",
       "      <td>...</td>\n",
       "      <td>1</td>\n",
       "      <td>1</td>\n",
       "      <td>100</td>\n",
       "      <td>41326</td>\n",
       "      <td>8480853f516546f6cf33aa88cd76c379</td>\n",
       "      <td>0</td>\n",
       "      <td>Nibble is a 3+ month old ball of cuteness. He ...</td>\n",
       "      <td>86e1089a3</td>\n",
       "      <td>1.0</td>\n",
       "      <td>2</td>\n",
       "    </tr>\n",
       "    <tr>\n",
       "      <th>1</th>\n",
       "      <td>2</td>\n",
       "      <td>No Name Yet</td>\n",
       "      <td>1</td>\n",
       "      <td>265</td>\n",
       "      <td>0</td>\n",
       "      <td>1</td>\n",
       "      <td>1</td>\n",
       "      <td>2</td>\n",
       "      <td>0</td>\n",
       "      <td>2</td>\n",
       "      <td>...</td>\n",
       "      <td>1</td>\n",
       "      <td>1</td>\n",
       "      <td>0</td>\n",
       "      <td>41401</td>\n",
       "      <td>3082c7125d8fb66f7dd4bff4192c8b14</td>\n",
       "      <td>0</td>\n",
       "      <td>I just found it alone yesterday near my apartm...</td>\n",
       "      <td>6296e909a</td>\n",
       "      <td>2.0</td>\n",
       "      <td>0</td>\n",
       "    </tr>\n",
       "    <tr>\n",
       "      <th>2</th>\n",
       "      <td>1</td>\n",
       "      <td>Brisco</td>\n",
       "      <td>1</td>\n",
       "      <td>307</td>\n",
       "      <td>0</td>\n",
       "      <td>1</td>\n",
       "      <td>2</td>\n",
       "      <td>7</td>\n",
       "      <td>0</td>\n",
       "      <td>2</td>\n",
       "      <td>...</td>\n",
       "      <td>1</td>\n",
       "      <td>1</td>\n",
       "      <td>0</td>\n",
       "      <td>41326</td>\n",
       "      <td>fa90fa5b1ee11c86938398b60abc32cb</td>\n",
       "      <td>0</td>\n",
       "      <td>Their pregnant mother was dumped by her irresp...</td>\n",
       "      <td>3422e4906</td>\n",
       "      <td>7.0</td>\n",
       "      <td>3</td>\n",
       "    </tr>\n",
       "    <tr>\n",
       "      <th>3</th>\n",
       "      <td>1</td>\n",
       "      <td>Miko</td>\n",
       "      <td>4</td>\n",
       "      <td>307</td>\n",
       "      <td>0</td>\n",
       "      <td>2</td>\n",
       "      <td>1</td>\n",
       "      <td>2</td>\n",
       "      <td>0</td>\n",
       "      <td>2</td>\n",
       "      <td>...</td>\n",
       "      <td>1</td>\n",
       "      <td>1</td>\n",
       "      <td>150</td>\n",
       "      <td>41401</td>\n",
       "      <td>9238e4f44c71a75282e62f7136c6b240</td>\n",
       "      <td>0</td>\n",
       "      <td>Good guard dog, very alert, active, obedience ...</td>\n",
       "      <td>5842f1ff5</td>\n",
       "      <td>8.0</td>\n",
       "      <td>2</td>\n",
       "    </tr>\n",
       "    <tr>\n",
       "      <th>4</th>\n",
       "      <td>1</td>\n",
       "      <td>Hunter</td>\n",
       "      <td>1</td>\n",
       "      <td>307</td>\n",
       "      <td>0</td>\n",
       "      <td>1</td>\n",
       "      <td>1</td>\n",
       "      <td>0</td>\n",
       "      <td>0</td>\n",
       "      <td>2</td>\n",
       "      <td>...</td>\n",
       "      <td>1</td>\n",
       "      <td>1</td>\n",
       "      <td>0</td>\n",
       "      <td>41326</td>\n",
       "      <td>95481e953f8aed9ec3d16fc4509537e8</td>\n",
       "      <td>0</td>\n",
       "      <td>This handsome yet cute boy is up for adoption....</td>\n",
       "      <td>850a43f90</td>\n",
       "      <td>3.0</td>\n",
       "      <td>2</td>\n",
       "    </tr>\n",
       "  </tbody>\n",
       "</table>\n",
       "<p>5 rows × 24 columns</p>\n",
       "</div>"
      ],
      "text/plain": [
       "   Type         Name  Age  Breed1  Breed2  Gender  Color1  Color2  Color3  \\\n",
       "0     2       Nibble    3     299       0       1       1       7       0   \n",
       "1     2  No Name Yet    1     265       0       1       1       2       0   \n",
       "2     1       Brisco    1     307       0       1       2       7       0   \n",
       "3     1         Miko    4     307       0       2       1       2       0   \n",
       "4     1       Hunter    1     307       0       1       1       0       0   \n",
       "\n",
       "   MaturitySize  ...  Health  Quantity  Fee  State  \\\n",
       "0             1  ...       1         1  100  41326   \n",
       "1             2  ...       1         1    0  41401   \n",
       "2             2  ...       1         1    0  41326   \n",
       "3             2  ...       1         1  150  41401   \n",
       "4             2  ...       1         1    0  41326   \n",
       "\n",
       "                          RescuerID  VideoAmt  \\\n",
       "0  8480853f516546f6cf33aa88cd76c379         0   \n",
       "1  3082c7125d8fb66f7dd4bff4192c8b14         0   \n",
       "2  fa90fa5b1ee11c86938398b60abc32cb         0   \n",
       "3  9238e4f44c71a75282e62f7136c6b240         0   \n",
       "4  95481e953f8aed9ec3d16fc4509537e8         0   \n",
       "\n",
       "                                         Description      PetID PhotoAmt  \\\n",
       "0  Nibble is a 3+ month old ball of cuteness. He ...  86e1089a3      1.0   \n",
       "1  I just found it alone yesterday near my apartm...  6296e909a      2.0   \n",
       "2  Their pregnant mother was dumped by her irresp...  3422e4906      7.0   \n",
       "3  Good guard dog, very alert, active, obedience ...  5842f1ff5      8.0   \n",
       "4  This handsome yet cute boy is up for adoption....  850a43f90      3.0   \n",
       "\n",
       "   AdoptionSpeed  \n",
       "0              2  \n",
       "1              0  \n",
       "2              3  \n",
       "3              2  \n",
       "4              2  \n",
       "\n",
       "[5 rows x 24 columns]"
      ]
     },
     "execution_count": 2,
     "metadata": {},
     "output_type": "execute_result"
    }
   ],
   "source": [
    "df = pd.read_csv('train.csv')\n",
    "\n",
    "df.head()"
   ]
  },
  {
   "cell_type": "code",
   "execution_count": 3,
   "metadata": {
    "ExecuteTime": {
     "end_time": "2019-09-25T16:39:02.256302Z",
     "start_time": "2019-09-25T16:39:02.253582Z"
    }
   },
   "outputs": [
    {
     "data": {
      "text/plain": [
       "Index(['Type', 'Name', 'Age', 'Breed1', 'Breed2', 'Gender', 'Color1', 'Color2',\n",
       "       'Color3', 'MaturitySize', 'FurLength', 'Vaccinated', 'Dewormed',\n",
       "       'Sterilized', 'Health', 'Quantity', 'Fee', 'State', 'RescuerID',\n",
       "       'VideoAmt', 'Description', 'PetID', 'PhotoAmt', 'AdoptionSpeed'],\n",
       "      dtype='object')"
      ]
     },
     "execution_count": 3,
     "metadata": {},
     "output_type": "execute_result"
    }
   ],
   "source": [
    "df.columns"
   ]
  },
  {
   "cell_type": "code",
   "execution_count": 4,
   "metadata": {
    "ExecuteTime": {
     "end_time": "2019-09-25T16:39:02.465515Z",
     "start_time": "2019-09-25T16:39:02.257596Z"
    }
   },
   "outputs": [
    {
     "data": {
      "text/plain": [
       "<matplotlib.axes._subplots.AxesSubplot at 0x7f52f59f37f0>"
      ]
     },
     "execution_count": 4,
     "metadata": {},
     "output_type": "execute_result"
    },
    {
     "data": {
      "image/png": "[encoded data removed]",
      "text/plain": [
       "<Figure size 432x288 with 1 Axes>"
      ]
     },
     "metadata": {
      "needs_background": "light"
     },
     "output_type": "display_data"
    }
   ],
   "source": [
    "sns.distplot(df.Breed1)"
   ]
  },
  {
   "cell_type": "code",
   "execution_count": 5,
   "metadata": {
    "ExecuteTime": {
     "end_time": "2019-09-25T16:39:02.612425Z",
     "start_time": "2019-09-25T16:39:02.466690Z"
    }
   },
   "outputs": [
    {
     "data": {
      "text/plain": [
       "<matplotlib.axes._subplots.AxesSubplot at 0x7f52f584cb38>"
      ]
     },
     "execution_count": 5,
     "metadata": {},
     "output_type": "execute_result"
    },
    {
     "data": {
      "image/png": "[encoded data removed]",
      "text/plain": [
       "<Figure size 432x288 with 1 Axes>"
      ]
     },
     "metadata": {
      "needs_background": "light"
     },
     "output_type": "display_data"
    }
   ],
   "source": [
    "sns.distplot(df.Type)"
   ]
  },
  {
   "cell_type": "code",
   "execution_count": 6,
   "metadata": {
    "ExecuteTime": {
     "end_time": "2019-09-25T16:39:02.800702Z",
     "start_time": "2019-09-25T16:39:02.613557Z"
    }
   },
   "outputs": [
    {
     "data": {
      "text/plain": [
       "<matplotlib.axes._subplots.AxesSubplot at 0x7f52f57f25f8>"
      ]
     },
     "execution_count": 6,
     "metadata": {},
     "output_type": "execute_result"
    },
    {
     "data": {
      "image/png": "[encoded data removed]",
      "text/plain": [
       "<Figure size 432x288 with 1 Axes>"
      ]
     },
     "metadata": {
      "needs_background": "light"
     },
     "output_type": "display_data"
    }
   ],
   "source": [
    "sns.distplot(df.Age)"
   ]
  },
  {
   "cell_type": "code",
   "execution_count": 7,
   "metadata": {
    "ExecuteTime": {
     "end_time": "2019-09-25T16:39:02.808050Z",
     "start_time": "2019-09-25T16:39:02.801891Z"
    }
   },
   "outputs": [
    {
     "data": {
      "text/plain": [
       "count    14993.000000\n",
       "mean        10.452078\n",
       "std         18.155790\n",
       "min          0.000000\n",
       "25%          2.000000\n",
       "50%          3.000000\n",
       "75%         12.000000\n",
       "max        255.000000\n",
       "Name: Age, dtype: float64"
      ]
     },
     "execution_count": 7,
     "metadata": {},
     "output_type": "execute_result"
    }
   ],
   "source": [
    "df.Age.describe()"
   ]
  },
  {
   "cell_type": "code",
   "execution_count": 8,
   "metadata": {
    "ExecuteTime": {
     "end_time": "2019-09-25T16:39:02.965323Z",
     "start_time": "2019-09-25T16:39:02.809678Z"
    }
   },
   "outputs": [
    {
     "data": {
      "text/plain": [
       "<matplotlib.axes._subplots.AxesSubplot at 0x7f52f5710978>"
      ]
     },
     "execution_count": 8,
     "metadata": {},
     "output_type": "execute_result"
    },
    {
     "data": {
      "image/png": "[encoded data removed]",
      "text/plain": [
       "<Figure size 432x288 with 1 Axes>"
      ]
     },
     "metadata": {
      "needs_background": "light"
     },
     "output_type": "display_data"
    }
   ],
   "source": [
    "sns.distplot(df.AdoptionSpeed)"
   ]
  },
  {
   "cell_type": "code",
   "execution_count": 9,
   "metadata": {
    "ExecuteTime": {
     "end_time": "2019-09-25T16:39:03.121402Z",
     "start_time": "2019-09-25T16:39:02.966665Z"
    }
   },
   "outputs": [
    {
     "data": {
      "text/plain": [
       "<matplotlib.axes._subplots.AxesSubplot at 0x7f52f567ff28>"
      ]
     },
     "execution_count": 9,
     "metadata": {},
     "output_type": "execute_result"
    },
    {
     "data": {
      "image/png": "[encoded data removed]",
      "text/plain": [
       "<Figure size 432x288 with 1 Axes>"
      ]
     },
     "metadata": {
      "needs_background": "light"
     },
     "output_type": "display_data"
    }
   ],
   "source": [
    "sns.distplot(df.AdoptionSpeed)"
   ]
  },
  {
   "cell_type": "code",
   "execution_count": 10,
   "metadata": {
    "ExecuteTime": {
     "end_time": "2019-09-25T16:39:03.130672Z",
     "start_time": "2019-09-25T16:39:03.122535Z"
    }
   },
   "outputs": [],
   "source": [
    "df = df.fillna('None')\n",
    "\n",
    "df.Name = df['Name'].replace(['No Name Yet'], 'None')"
   ]
  },
  {
   "cell_type": "code",
   "execution_count": 11,
   "metadata": {
    "ExecuteTime": {
     "end_time": "2019-09-25T16:39:03.191912Z",
     "start_time": "2019-09-25T16:39:03.131769Z"
    }
   },
   "outputs": [
    {
     "data": {
      "text/html": [
       "<div>\n",
       "<style scoped>\n",
       "    .dataframe tbody tr th:only-of-type {\n",
       "        vertical-align: middle;\n",
       "    }\n",
       "\n",
       "    .dataframe tbody tr th {\n",
       "        vertical-align: top;\n",
       "    }\n",
       "\n",
       "    .dataframe thead th {\n",
       "        text-align: right;\n",
       "    }\n",
       "</style>\n",
       "<table border=\"1\" class=\"dataframe\">\n",
       "  <thead>\n",
       "    <tr style=\"text-align: right;\">\n",
       "      <th></th>\n",
       "      <th>Type</th>\n",
       "      <th>Age</th>\n",
       "      <th>Breed1</th>\n",
       "      <th>Breed2</th>\n",
       "      <th>Gender</th>\n",
       "      <th>Color1</th>\n",
       "      <th>Color2</th>\n",
       "      <th>Color3</th>\n",
       "      <th>MaturitySize</th>\n",
       "      <th>FurLength</th>\n",
       "      <th>Vaccinated</th>\n",
       "      <th>Dewormed</th>\n",
       "      <th>Sterilized</th>\n",
       "      <th>Health</th>\n",
       "      <th>Quantity</th>\n",
       "      <th>Fee</th>\n",
       "      <th>State</th>\n",
       "      <th>VideoAmt</th>\n",
       "      <th>PhotoAmt</th>\n",
       "      <th>AdoptionSpeed</th>\n",
       "    </tr>\n",
       "  </thead>\n",
       "  <tbody>\n",
       "    <tr>\n",
       "      <th>count</th>\n",
       "      <td>14993.000000</td>\n",
       "      <td>14993.000000</td>\n",
       "      <td>14993.000000</td>\n",
       "      <td>14993.000000</td>\n",
       "      <td>14993.000000</td>\n",
       "      <td>14993.000000</td>\n",
       "      <td>14993.000000</td>\n",
       "      <td>14993.000000</td>\n",
       "      <td>14993.000000</td>\n",
       "      <td>14993.000000</td>\n",
       "      <td>14993.000000</td>\n",
       "      <td>14993.000000</td>\n",
       "      <td>14993.000000</td>\n",
       "      <td>14993.000000</td>\n",
       "      <td>14993.000000</td>\n",
       "      <td>14993.000000</td>\n",
       "      <td>14993.000000</td>\n",
       "      <td>14993.000000</td>\n",
       "      <td>14993.000000</td>\n",
       "      <td>14993.000000</td>\n",
       "    </tr>\n",
       "    <tr>\n",
       "      <th>mean</th>\n",
       "      <td>1.457614</td>\n",
       "      <td>10.452078</td>\n",
       "      <td>265.272594</td>\n",
       "      <td>74.009738</td>\n",
       "      <td>1.776162</td>\n",
       "      <td>2.234176</td>\n",
       "      <td>3.222837</td>\n",
       "      <td>1.882012</td>\n",
       "      <td>1.862002</td>\n",
       "      <td>1.467485</td>\n",
       "      <td>1.731208</td>\n",
       "      <td>1.558727</td>\n",
       "      <td>1.914227</td>\n",
       "      <td>1.036617</td>\n",
       "      <td>1.576069</td>\n",
       "      <td>21.259988</td>\n",
       "      <td>41346.028347</td>\n",
       "      <td>0.056760</td>\n",
       "      <td>3.889215</td>\n",
       "      <td>2.516441</td>\n",
       "    </tr>\n",
       "    <tr>\n",
       "      <th>std</th>\n",
       "      <td>0.498217</td>\n",
       "      <td>18.155790</td>\n",
       "      <td>60.056818</td>\n",
       "      <td>123.011575</td>\n",
       "      <td>0.681592</td>\n",
       "      <td>1.745225</td>\n",
       "      <td>2.742562</td>\n",
       "      <td>2.984086</td>\n",
       "      <td>0.547959</td>\n",
       "      <td>0.599070</td>\n",
       "      <td>0.667649</td>\n",
       "      <td>0.695817</td>\n",
       "      <td>0.566172</td>\n",
       "      <td>0.199535</td>\n",
       "      <td>1.472477</td>\n",
       "      <td>78.414548</td>\n",
       "      <td>32.444153</td>\n",
       "      <td>0.346185</td>\n",
       "      <td>3.487810</td>\n",
       "      <td>1.177265</td>\n",
       "    </tr>\n",
       "    <tr>\n",
       "      <th>min</th>\n",
       "      <td>1.000000</td>\n",
       "      <td>0.000000</td>\n",
       "      <td>0.000000</td>\n",
       "      <td>0.000000</td>\n",
       "      <td>1.000000</td>\n",
       "      <td>1.000000</td>\n",
       "      <td>0.000000</td>\n",
       "      <td>0.000000</td>\n",
       "      <td>1.000000</td>\n",
       "      <td>1.000000</td>\n",
       "      <td>1.000000</td>\n",
       "      <td>1.000000</td>\n",
       "      <td>1.000000</td>\n",
       "      <td>1.000000</td>\n",
       "      <td>1.000000</td>\n",
       "      <td>0.000000</td>\n",
       "      <td>41324.000000</td>\n",
       "      <td>0.000000</td>\n",
       "      <td>0.000000</td>\n",
       "      <td>0.000000</td>\n",
       "    </tr>\n",
       "    <tr>\n",
       "      <th>25%</th>\n",
       "      <td>1.000000</td>\n",
       "      <td>2.000000</td>\n",
       "      <td>265.000000</td>\n",
       "      <td>0.000000</td>\n",
       "      <td>1.000000</td>\n",
       "      <td>1.000000</td>\n",
       "      <td>0.000000</td>\n",
       "      <td>0.000000</td>\n",
       "      <td>2.000000</td>\n",
       "      <td>1.000000</td>\n",
       "      <td>1.000000</td>\n",
       "      <td>1.000000</td>\n",
       "      <td>2.000000</td>\n",
       "      <td>1.000000</td>\n",
       "      <td>1.000000</td>\n",
       "      <td>0.000000</td>\n",
       "      <td>41326.000000</td>\n",
       "      <td>0.000000</td>\n",
       "      <td>2.000000</td>\n",
       "      <td>2.000000</td>\n",
       "    </tr>\n",
       "    <tr>\n",
       "      <th>50%</th>\n",
       "      <td>1.000000</td>\n",
       "      <td>3.000000</td>\n",
       "      <td>266.000000</td>\n",
       "      <td>0.000000</td>\n",
       "      <td>2.000000</td>\n",
       "      <td>2.000000</td>\n",
       "      <td>2.000000</td>\n",
       "      <td>0.000000</td>\n",
       "      <td>2.000000</td>\n",
       "      <td>1.000000</td>\n",
       "      <td>2.000000</td>\n",
       "      <td>1.000000</td>\n",
       "      <td>2.000000</td>\n",
       "      <td>1.000000</td>\n",
       "      <td>1.000000</td>\n",
       "      <td>0.000000</td>\n",
       "      <td>41326.000000</td>\n",
       "      <td>0.000000</td>\n",
       "      <td>3.000000</td>\n",
       "      <td>2.000000</td>\n",
       "    </tr>\n",
       "    <tr>\n",
       "      <th>75%</th>\n",
       "      <td>2.000000</td>\n",
       "      <td>12.000000</td>\n",
       "      <td>307.000000</td>\n",
       "      <td>179.000000</td>\n",
       "      <td>2.000000</td>\n",
       "      <td>3.000000</td>\n",
       "      <td>6.000000</td>\n",
       "      <td>5.000000</td>\n",
       "      <td>2.000000</td>\n",
       "      <td>2.000000</td>\n",
       "      <td>2.000000</td>\n",
       "      <td>2.000000</td>\n",
       "      <td>2.000000</td>\n",
       "      <td>1.000000</td>\n",
       "      <td>1.000000</td>\n",
       "      <td>0.000000</td>\n",
       "      <td>41401.000000</td>\n",
       "      <td>0.000000</td>\n",
       "      <td>5.000000</td>\n",
       "      <td>4.000000</td>\n",
       "    </tr>\n",
       "    <tr>\n",
       "      <th>max</th>\n",
       "      <td>2.000000</td>\n",
       "      <td>255.000000</td>\n",
       "      <td>307.000000</td>\n",
       "      <td>307.000000</td>\n",
       "      <td>3.000000</td>\n",
       "      <td>7.000000</td>\n",
       "      <td>7.000000</td>\n",
       "      <td>7.000000</td>\n",
       "      <td>4.000000</td>\n",
       "      <td>3.000000</td>\n",
       "      <td>3.000000</td>\n",
       "      <td>3.000000</td>\n",
       "      <td>3.000000</td>\n",
       "      <td>3.000000</td>\n",
       "      <td>20.000000</td>\n",
       "      <td>3000.000000</td>\n",
       "      <td>41415.000000</td>\n",
       "      <td>8.000000</td>\n",
       "      <td>30.000000</td>\n",
       "      <td>4.000000</td>\n",
       "    </tr>\n",
       "  </tbody>\n",
       "</table>\n",
       "</div>"
      ],
      "text/plain": [
       "               Type           Age        Breed1        Breed2        Gender  \\\n",
       "count  14993.000000  14993.000000  14993.000000  14993.000000  14993.000000   \n",
       "mean       1.457614     10.452078    265.272594     74.009738      1.776162   \n",
       "std        0.498217     18.155790     60.056818    123.011575      0.681592   \n",
       "min        1.000000      0.000000      0.000000      0.000000      1.000000   \n",
       "25%        1.000000      2.000000    265.000000      0.000000      1.000000   \n",
       "50%        1.000000      3.000000    266.000000      0.000000      2.000000   \n",
       "75%        2.000000     12.000000    307.000000    179.000000      2.000000   \n",
       "max        2.000000    255.000000    307.000000    307.000000      3.000000   \n",
       "\n",
       "             Color1        Color2        Color3  MaturitySize     FurLength  \\\n",
       "count  14993.000000  14993.000000  14993.000000  14993.000000  14993.000000   \n",
       "mean       2.234176      3.222837      1.882012      1.862002      1.467485   \n",
       "std        1.745225      2.742562      2.984086      0.547959      0.599070   \n",
       "min        1.000000      0.000000      0.000000      1.000000      1.000000   \n",
       "25%        1.000000      0.000000      0.000000      2.000000      1.000000   \n",
       "50%        2.000000      2.000000      0.000000      2.000000      1.000000   \n",
       "75%        3.000000      6.000000      5.000000      2.000000      2.000000   \n",
       "max        7.000000      7.000000      7.000000      4.000000      3.000000   \n",
       "\n",
       "         Vaccinated      Dewormed    Sterilized        Health      Quantity  \\\n",
       "count  14993.000000  14993.000000  14993.000000  14993.000000  14993.000000   \n",
       "mean       1.731208      1.558727      1.914227      1.036617      1.576069   \n",
       "std        0.667649      0.695817      0.566172      0.199535      1.472477   \n",
       "min        1.000000      1.000000      1.000000      1.000000      1.000000   \n",
       "25%        1.000000      1.000000      2.000000      1.000000      1.000000   \n",
       "50%        2.000000      1.000000      2.000000      1.000000      1.000000   \n",
       "75%        2.000000      2.000000      2.000000      1.000000      1.000000   \n",
       "max        3.000000      3.000000      3.000000      3.000000     20.000000   \n",
       "\n",
       "                Fee         State      VideoAmt      PhotoAmt  AdoptionSpeed  \n",
       "count  14993.000000  14993.000000  14993.000000  14993.000000   14993.000000  \n",
       "mean      21.259988  41346.028347      0.056760      3.889215       2.516441  \n",
       "std       78.414548     32.444153      0.346185      3.487810       1.177265  \n",
       "min        0.000000  41324.000000      0.000000      0.000000       0.000000  \n",
       "25%        0.000000  41326.000000      0.000000      2.000000       2.000000  \n",
       "50%        0.000000  41326.000000      0.000000      3.000000       2.000000  \n",
       "75%        0.000000  41401.000000      0.000000      5.000000       4.000000  \n",
       "max     3000.000000  41415.000000      8.000000     30.000000       4.000000  "
      ]
     },
     "execution_count": 11,
     "metadata": {},
     "output_type": "execute_result"
    }
   ],
   "source": [
    "df.describe()"
   ]
  },
  {
   "cell_type": "code",
   "execution_count": 12,
   "metadata": {
    "ExecuteTime": {
     "end_time": "2019-09-25T16:39:03.200409Z",
     "start_time": "2019-09-25T16:39:03.193063Z"
    }
   },
   "outputs": [],
   "source": [
    "# Adoption speed currently grouped into 5 buckets\n",
    "# Would like to consider doing a binary classification (adopted within 3 months or not)\n",
    "\n",
    "def convert_speed(x):\n",
    "    if x == 4:\n",
    "        return 0\n",
    "    else:\n",
    "        return 1\n",
    "\n",
    "df['Adopted']= df.AdoptionSpeed.apply(lambda x: convert_speed(x))"
   ]
  },
  {
   "cell_type": "code",
   "execution_count": 13,
   "metadata": {
    "ExecuteTime": {
     "end_time": "2019-09-25T16:39:04.192513Z",
     "start_time": "2019-09-25T16:39:03.201622Z"
    }
   },
   "outputs": [
    {
     "data": {
      "text/plain": [
       "<seaborn.axisgrid.PairGrid at 0x7f52f55a0048>"
      ]
     },
     "execution_count": 13,
     "metadata": {},
     "output_type": "execute_result"
    },
    {
     "data": {
      "image/png": "[encoded data removed]",
      "text/plain": [
       "<Figure size 360x360 with 6 Axes>"
      ]
     },
     "metadata": {
      "needs_background": "light"
     },
     "output_type": "display_data"
    }
   ],
   "source": [
    "sns.pairplot(df[['Age','AdoptionSpeed']])"
   ]
  },
  {
   "cell_type": "code",
   "execution_count": 14,
   "metadata": {
    "ExecuteTime": {
     "end_time": "2019-09-25T16:39:04.220710Z",
     "start_time": "2019-09-25T16:39:04.193617Z"
    },
    "scrolled": true
   },
   "outputs": [
    {
     "data": {
      "text/html": [
       "<div>\n",
       "<style scoped>\n",
       "    .dataframe tbody tr th:only-of-type {\n",
       "        vertical-align: middle;\n",
       "    }\n",
       "\n",
       "    .dataframe tbody tr th {\n",
       "        vertical-align: top;\n",
       "    }\n",
       "\n",
       "    .dataframe thead th {\n",
       "        text-align: right;\n",
       "    }\n",
       "</style>\n",
       "<table border=\"1\" class=\"dataframe\">\n",
       "  <thead>\n",
       "    <tr style=\"text-align: right;\">\n",
       "      <th></th>\n",
       "      <th>Type</th>\n",
       "      <th>Breed1</th>\n",
       "      <th>AdoptionSpeed</th>\n",
       "      <th>BreedID</th>\n",
       "      <th>BreedName</th>\n",
       "    </tr>\n",
       "  </thead>\n",
       "  <tbody>\n",
       "    <tr>\n",
       "      <th>0</th>\n",
       "      <td>1</td>\n",
       "      <td>0</td>\n",
       "      <td>3.500000</td>\n",
       "      <td>NaN</td>\n",
       "      <td>NaN</td>\n",
       "    </tr>\n",
       "    <tr>\n",
       "      <th>1</th>\n",
       "      <td>1</td>\n",
       "      <td>1</td>\n",
       "      <td>4.000000</td>\n",
       "      <td>1.0</td>\n",
       "      <td>Affenpinscher</td>\n",
       "    </tr>\n",
       "    <tr>\n",
       "      <th>2</th>\n",
       "      <td>1</td>\n",
       "      <td>3</td>\n",
       "      <td>4.000000</td>\n",
       "      <td>3.0</td>\n",
       "      <td>Airedale Terrier</td>\n",
       "    </tr>\n",
       "    <tr>\n",
       "      <th>3</th>\n",
       "      <td>1</td>\n",
       "      <td>5</td>\n",
       "      <td>2.500000</td>\n",
       "      <td>5.0</td>\n",
       "      <td>Akita</td>\n",
       "    </tr>\n",
       "    <tr>\n",
       "      <th>4</th>\n",
       "      <td>1</td>\n",
       "      <td>7</td>\n",
       "      <td>4.000000</td>\n",
       "      <td>7.0</td>\n",
       "      <td>American Bulldog</td>\n",
       "    </tr>\n",
       "    <tr>\n",
       "      <th>5</th>\n",
       "      <td>1</td>\n",
       "      <td>10</td>\n",
       "      <td>3.000000</td>\n",
       "      <td>10.0</td>\n",
       "      <td>American Staffordshire Terrier</td>\n",
       "    </tr>\n",
       "    <tr>\n",
       "      <th>6</th>\n",
       "      <td>1</td>\n",
       "      <td>11</td>\n",
       "      <td>4.000000</td>\n",
       "      <td>11.0</td>\n",
       "      <td>American Water Spaniel</td>\n",
       "    </tr>\n",
       "    <tr>\n",
       "      <th>7</th>\n",
       "      <td>1</td>\n",
       "      <td>15</td>\n",
       "      <td>2.500000</td>\n",
       "      <td>15.0</td>\n",
       "      <td>Australian Kelpie</td>\n",
       "    </tr>\n",
       "    <tr>\n",
       "      <th>8</th>\n",
       "      <td>1</td>\n",
       "      <td>16</td>\n",
       "      <td>4.000000</td>\n",
       "      <td>16.0</td>\n",
       "      <td>Australian Shepherd</td>\n",
       "    </tr>\n",
       "    <tr>\n",
       "      <th>9</th>\n",
       "      <td>1</td>\n",
       "      <td>17</td>\n",
       "      <td>3.000000</td>\n",
       "      <td>17.0</td>\n",
       "      <td>Australian Terrier</td>\n",
       "    </tr>\n",
       "    <tr>\n",
       "      <th>10</th>\n",
       "      <td>1</td>\n",
       "      <td>18</td>\n",
       "      <td>3.000000</td>\n",
       "      <td>18.0</td>\n",
       "      <td>Basenji</td>\n",
       "    </tr>\n",
       "    <tr>\n",
       "      <th>11</th>\n",
       "      <td>1</td>\n",
       "      <td>19</td>\n",
       "      <td>2.111111</td>\n",
       "      <td>19.0</td>\n",
       "      <td>Basset Hound</td>\n",
       "    </tr>\n",
       "    <tr>\n",
       "      <th>12</th>\n",
       "      <td>1</td>\n",
       "      <td>20</td>\n",
       "      <td>2.200000</td>\n",
       "      <td>20.0</td>\n",
       "      <td>Beagle</td>\n",
       "    </tr>\n",
       "    <tr>\n",
       "      <th>13</th>\n",
       "      <td>1</td>\n",
       "      <td>23</td>\n",
       "      <td>2.000000</td>\n",
       "      <td>23.0</td>\n",
       "      <td>Bedlington Terrier</td>\n",
       "    </tr>\n",
       "    <tr>\n",
       "      <th>14</th>\n",
       "      <td>1</td>\n",
       "      <td>24</td>\n",
       "      <td>1.500000</td>\n",
       "      <td>24.0</td>\n",
       "      <td>Belgian Shepherd Dog Sheepdog</td>\n",
       "    </tr>\n",
       "    <tr>\n",
       "      <th>15</th>\n",
       "      <td>1</td>\n",
       "      <td>25</td>\n",
       "      <td>1.000000</td>\n",
       "      <td>25.0</td>\n",
       "      <td>Belgian Shepherd Laekenois</td>\n",
       "    </tr>\n",
       "    <tr>\n",
       "      <th>16</th>\n",
       "      <td>1</td>\n",
       "      <td>26</td>\n",
       "      <td>2.153846</td>\n",
       "      <td>26.0</td>\n",
       "      <td>Belgian Shepherd Malinois</td>\n",
       "    </tr>\n",
       "    <tr>\n",
       "      <th>17</th>\n",
       "      <td>1</td>\n",
       "      <td>31</td>\n",
       "      <td>2.375000</td>\n",
       "      <td>31.0</td>\n",
       "      <td>Black Labrador Retriever</td>\n",
       "    </tr>\n",
       "    <tr>\n",
       "      <th>18</th>\n",
       "      <td>1</td>\n",
       "      <td>32</td>\n",
       "      <td>2.000000</td>\n",
       "      <td>32.0</td>\n",
       "      <td>Black Mouth Cur</td>\n",
       "    </tr>\n",
       "    <tr>\n",
       "      <th>19</th>\n",
       "      <td>1</td>\n",
       "      <td>39</td>\n",
       "      <td>2.461538</td>\n",
       "      <td>39.0</td>\n",
       "      <td>Border Collie</td>\n",
       "    </tr>\n",
       "    <tr>\n",
       "      <th>20</th>\n",
       "      <td>1</td>\n",
       "      <td>42</td>\n",
       "      <td>2.400000</td>\n",
       "      <td>42.0</td>\n",
       "      <td>Boston Terrier</td>\n",
       "    </tr>\n",
       "    <tr>\n",
       "      <th>21</th>\n",
       "      <td>1</td>\n",
       "      <td>44</td>\n",
       "      <td>2.700000</td>\n",
       "      <td>44.0</td>\n",
       "      <td>Boxer</td>\n",
       "    </tr>\n",
       "    <tr>\n",
       "      <th>22</th>\n",
       "      <td>1</td>\n",
       "      <td>49</td>\n",
       "      <td>2.625000</td>\n",
       "      <td>49.0</td>\n",
       "      <td>Bull Terrier</td>\n",
       "    </tr>\n",
       "    <tr>\n",
       "      <th>23</th>\n",
       "      <td>1</td>\n",
       "      <td>50</td>\n",
       "      <td>2.416667</td>\n",
       "      <td>50.0</td>\n",
       "      <td>Bullmastiff</td>\n",
       "    </tr>\n",
       "    <tr>\n",
       "      <th>24</th>\n",
       "      <td>1</td>\n",
       "      <td>56</td>\n",
       "      <td>3.000000</td>\n",
       "      <td>56.0</td>\n",
       "      <td>Cattle Dog</td>\n",
       "    </tr>\n",
       "    <tr>\n",
       "      <th>25</th>\n",
       "      <td>1</td>\n",
       "      <td>58</td>\n",
       "      <td>2.500000</td>\n",
       "      <td>58.0</td>\n",
       "      <td>Cavalier King Charles Spaniel</td>\n",
       "    </tr>\n",
       "    <tr>\n",
       "      <th>26</th>\n",
       "      <td>1</td>\n",
       "      <td>60</td>\n",
       "      <td>2.270270</td>\n",
       "      <td>60.0</td>\n",
       "      <td>Chihuahua</td>\n",
       "    </tr>\n",
       "    <tr>\n",
       "      <th>27</th>\n",
       "      <td>1</td>\n",
       "      <td>61</td>\n",
       "      <td>0.000000</td>\n",
       "      <td>61.0</td>\n",
       "      <td>Chinese Crested Dog</td>\n",
       "    </tr>\n",
       "    <tr>\n",
       "      <th>28</th>\n",
       "      <td>1</td>\n",
       "      <td>64</td>\n",
       "      <td>3.000000</td>\n",
       "      <td>64.0</td>\n",
       "      <td>Chocolate Labrador Retriever</td>\n",
       "    </tr>\n",
       "    <tr>\n",
       "      <th>29</th>\n",
       "      <td>1</td>\n",
       "      <td>65</td>\n",
       "      <td>1.000000</td>\n",
       "      <td>65.0</td>\n",
       "      <td>Chow Chow</td>\n",
       "    </tr>\n",
       "    <tr>\n",
       "      <th>...</th>\n",
       "      <td>...</td>\n",
       "      <td>...</td>\n",
       "      <td>...</td>\n",
       "      <td>...</td>\n",
       "      <td>...</td>\n",
       "    </tr>\n",
       "    <tr>\n",
       "      <th>154</th>\n",
       "      <td>2</td>\n",
       "      <td>276</td>\n",
       "      <td>1.970588</td>\n",
       "      <td>276.0</td>\n",
       "      <td>Maine Coon</td>\n",
       "    </tr>\n",
       "    <tr>\n",
       "      <th>155</th>\n",
       "      <td>2</td>\n",
       "      <td>277</td>\n",
       "      <td>2.625000</td>\n",
       "      <td>277.0</td>\n",
       "      <td>Manx</td>\n",
       "    </tr>\n",
       "    <tr>\n",
       "      <th>156</th>\n",
       "      <td>2</td>\n",
       "      <td>279</td>\n",
       "      <td>4.000000</td>\n",
       "      <td>279.0</td>\n",
       "      <td>Nebelung</td>\n",
       "    </tr>\n",
       "    <tr>\n",
       "      <th>157</th>\n",
       "      <td>2</td>\n",
       "      <td>280</td>\n",
       "      <td>1.400000</td>\n",
       "      <td>280.0</td>\n",
       "      <td>Norwegian Forest Cat</td>\n",
       "    </tr>\n",
       "    <tr>\n",
       "      <th>158</th>\n",
       "      <td>2</td>\n",
       "      <td>281</td>\n",
       "      <td>1.500000</td>\n",
       "      <td>281.0</td>\n",
       "      <td>Ocicat</td>\n",
       "    </tr>\n",
       "    <tr>\n",
       "      <th>159</th>\n",
       "      <td>2</td>\n",
       "      <td>282</td>\n",
       "      <td>1.705882</td>\n",
       "      <td>282.0</td>\n",
       "      <td>Oriental Long Hair</td>\n",
       "    </tr>\n",
       "    <tr>\n",
       "      <th>160</th>\n",
       "      <td>2</td>\n",
       "      <td>283</td>\n",
       "      <td>2.794521</td>\n",
       "      <td>283.0</td>\n",
       "      <td>Oriental Short Hair</td>\n",
       "    </tr>\n",
       "    <tr>\n",
       "      <th>161</th>\n",
       "      <td>2</td>\n",
       "      <td>284</td>\n",
       "      <td>2.714286</td>\n",
       "      <td>284.0</td>\n",
       "      <td>Oriental Tabby</td>\n",
       "    </tr>\n",
       "    <tr>\n",
       "      <th>162</th>\n",
       "      <td>2</td>\n",
       "      <td>285</td>\n",
       "      <td>1.950226</td>\n",
       "      <td>285.0</td>\n",
       "      <td>Persian</td>\n",
       "    </tr>\n",
       "    <tr>\n",
       "      <th>163</th>\n",
       "      <td>2</td>\n",
       "      <td>286</td>\n",
       "      <td>4.000000</td>\n",
       "      <td>286.0</td>\n",
       "      <td>Pixie-Bob</td>\n",
       "    </tr>\n",
       "    <tr>\n",
       "      <th>164</th>\n",
       "      <td>2</td>\n",
       "      <td>287</td>\n",
       "      <td>1.000000</td>\n",
       "      <td>287.0</td>\n",
       "      <td>Ragamuffin</td>\n",
       "    </tr>\n",
       "    <tr>\n",
       "      <th>165</th>\n",
       "      <td>2</td>\n",
       "      <td>288</td>\n",
       "      <td>1.875000</td>\n",
       "      <td>288.0</td>\n",
       "      <td>Ragdoll</td>\n",
       "    </tr>\n",
       "    <tr>\n",
       "      <th>166</th>\n",
       "      <td>2</td>\n",
       "      <td>289</td>\n",
       "      <td>1.884615</td>\n",
       "      <td>289.0</td>\n",
       "      <td>Russian Blue</td>\n",
       "    </tr>\n",
       "    <tr>\n",
       "      <th>167</th>\n",
       "      <td>2</td>\n",
       "      <td>290</td>\n",
       "      <td>2.000000</td>\n",
       "      <td>290.0</td>\n",
       "      <td>Scottish Fold</td>\n",
       "    </tr>\n",
       "    <tr>\n",
       "      <th>168</th>\n",
       "      <td>2</td>\n",
       "      <td>292</td>\n",
       "      <td>2.056818</td>\n",
       "      <td>292.0</td>\n",
       "      <td>Siamese</td>\n",
       "    </tr>\n",
       "    <tr>\n",
       "      <th>169</th>\n",
       "      <td>2</td>\n",
       "      <td>293</td>\n",
       "      <td>1.666667</td>\n",
       "      <td>293.0</td>\n",
       "      <td>Siberian</td>\n",
       "    </tr>\n",
       "    <tr>\n",
       "      <th>170</th>\n",
       "      <td>2</td>\n",
       "      <td>294</td>\n",
       "      <td>4.000000</td>\n",
       "      <td>294.0</td>\n",
       "      <td>Silver</td>\n",
       "    </tr>\n",
       "    <tr>\n",
       "      <th>171</th>\n",
       "      <td>2</td>\n",
       "      <td>295</td>\n",
       "      <td>3.153846</td>\n",
       "      <td>295.0</td>\n",
       "      <td>Singapura</td>\n",
       "    </tr>\n",
       "    <tr>\n",
       "      <th>172</th>\n",
       "      <td>2</td>\n",
       "      <td>296</td>\n",
       "      <td>3.600000</td>\n",
       "      <td>296.0</td>\n",
       "      <td>Snowshoe</td>\n",
       "    </tr>\n",
       "    <tr>\n",
       "      <th>173</th>\n",
       "      <td>2</td>\n",
       "      <td>297</td>\n",
       "      <td>2.000000</td>\n",
       "      <td>297.0</td>\n",
       "      <td>Somali</td>\n",
       "    </tr>\n",
       "    <tr>\n",
       "      <th>174</th>\n",
       "      <td>2</td>\n",
       "      <td>298</td>\n",
       "      <td>0.000000</td>\n",
       "      <td>298.0</td>\n",
       "      <td>Sphynx (hairless cat)</td>\n",
       "    </tr>\n",
       "    <tr>\n",
       "      <th>175</th>\n",
       "      <td>2</td>\n",
       "      <td>299</td>\n",
       "      <td>2.421053</td>\n",
       "      <td>299.0</td>\n",
       "      <td>Tabby</td>\n",
       "    </tr>\n",
       "    <tr>\n",
       "      <th>176</th>\n",
       "      <td>2</td>\n",
       "      <td>300</td>\n",
       "      <td>2.380952</td>\n",
       "      <td>300.0</td>\n",
       "      <td>Tiger</td>\n",
       "    </tr>\n",
       "    <tr>\n",
       "      <th>177</th>\n",
       "      <td>2</td>\n",
       "      <td>301</td>\n",
       "      <td>1.600000</td>\n",
       "      <td>301.0</td>\n",
       "      <td>Tonkinese</td>\n",
       "    </tr>\n",
       "    <tr>\n",
       "      <th>178</th>\n",
       "      <td>2</td>\n",
       "      <td>302</td>\n",
       "      <td>2.000000</td>\n",
       "      <td>302.0</td>\n",
       "      <td>Torbie</td>\n",
       "    </tr>\n",
       "    <tr>\n",
       "      <th>179</th>\n",
       "      <td>2</td>\n",
       "      <td>303</td>\n",
       "      <td>2.333333</td>\n",
       "      <td>303.0</td>\n",
       "      <td>Tortoiseshell</td>\n",
       "    </tr>\n",
       "    <tr>\n",
       "      <th>180</th>\n",
       "      <td>2</td>\n",
       "      <td>304</td>\n",
       "      <td>2.857143</td>\n",
       "      <td>304.0</td>\n",
       "      <td>Turkish Angora</td>\n",
       "    </tr>\n",
       "    <tr>\n",
       "      <th>181</th>\n",
       "      <td>2</td>\n",
       "      <td>305</td>\n",
       "      <td>2.875000</td>\n",
       "      <td>305.0</td>\n",
       "      <td>Turkish Van</td>\n",
       "    </tr>\n",
       "    <tr>\n",
       "      <th>182</th>\n",
       "      <td>2</td>\n",
       "      <td>306</td>\n",
       "      <td>2.482143</td>\n",
       "      <td>306.0</td>\n",
       "      <td>Tuxedo</td>\n",
       "    </tr>\n",
       "    <tr>\n",
       "      <th>183</th>\n",
       "      <td>2</td>\n",
       "      <td>307</td>\n",
       "      <td>4.000000</td>\n",
       "      <td>NaN</td>\n",
       "      <td>NaN</td>\n",
       "    </tr>\n",
       "  </tbody>\n",
       "</table>\n",
       "<p>184 rows × 5 columns</p>\n",
       "</div>"
      ],
      "text/plain": [
       "     Type  Breed1  AdoptionSpeed  BreedID                       BreedName\n",
       "0       1       0       3.500000      NaN                             NaN\n",
       "1       1       1       4.000000      1.0                   Affenpinscher\n",
       "2       1       3       4.000000      3.0                Airedale Terrier\n",
       "3       1       5       2.500000      5.0                           Akita\n",
       "4       1       7       4.000000      7.0                American Bulldog\n",
       "5       1      10       3.000000     10.0  American Staffordshire Terrier\n",
       "6       1      11       4.000000     11.0          American Water Spaniel\n",
       "7       1      15       2.500000     15.0               Australian Kelpie\n",
       "8       1      16       4.000000     16.0             Australian Shepherd\n",
       "9       1      17       3.000000     17.0              Australian Terrier\n",
       "10      1      18       3.000000     18.0                         Basenji\n",
       "11      1      19       2.111111     19.0                    Basset Hound\n",
       "12      1      20       2.200000     20.0                          Beagle\n",
       "13      1      23       2.000000     23.0              Bedlington Terrier\n",
       "14      1      24       1.500000     24.0   Belgian Shepherd Dog Sheepdog\n",
       "15      1      25       1.000000     25.0      Belgian Shepherd Laekenois\n",
       "16      1      26       2.153846     26.0       Belgian Shepherd Malinois\n",
       "17      1      31       2.375000     31.0        Black Labrador Retriever\n",
       "18      1      32       2.000000     32.0                 Black Mouth Cur\n",
       "19      1      39       2.461538     39.0                   Border Collie\n",
       "20      1      42       2.400000     42.0                  Boston Terrier\n",
       "21      1      44       2.700000     44.0                           Boxer\n",
       "22      1      49       2.625000     49.0                    Bull Terrier\n",
       "23      1      50       2.416667     50.0                     Bullmastiff\n",
       "24      1      56       3.000000     56.0                      Cattle Dog\n",
       "25      1      58       2.500000     58.0   Cavalier King Charles Spaniel\n",
       "26      1      60       2.270270     60.0                       Chihuahua\n",
       "27      1      61       0.000000     61.0             Chinese Crested Dog\n",
       "28      1      64       3.000000     64.0    Chocolate Labrador Retriever\n",
       "29      1      65       1.000000     65.0                       Chow Chow\n",
       "..    ...     ...            ...      ...                             ...\n",
       "154     2     276       1.970588    276.0                      Maine Coon\n",
       "155     2     277       2.625000    277.0                            Manx\n",
       "156     2     279       4.000000    279.0                        Nebelung\n",
       "157     2     280       1.400000    280.0            Norwegian Forest Cat\n",
       "158     2     281       1.500000    281.0                          Ocicat\n",
       "159     2     282       1.705882    282.0              Oriental Long Hair\n",
       "160     2     283       2.794521    283.0             Oriental Short Hair\n",
       "161     2     284       2.714286    284.0                  Oriental Tabby\n",
       "162     2     285       1.950226    285.0                         Persian\n",
       "163     2     286       4.000000    286.0                       Pixie-Bob\n",
       "164     2     287       1.000000    287.0                      Ragamuffin\n",
       "165     2     288       1.875000    288.0                         Ragdoll\n",
       "166     2     289       1.884615    289.0                    Russian Blue\n",
       "167     2     290       2.000000    290.0                   Scottish Fold\n",
       "168     2     292       2.056818    292.0                         Siamese\n",
       "169     2     293       1.666667    293.0                        Siberian\n",
       "170     2     294       4.000000    294.0                          Silver\n",
       "171     2     295       3.153846    295.0                       Singapura\n",
       "172     2     296       3.600000    296.0                        Snowshoe\n",
       "173     2     297       2.000000    297.0                          Somali\n",
       "174     2     298       0.000000    298.0           Sphynx (hairless cat)\n",
       "175     2     299       2.421053    299.0                           Tabby\n",
       "176     2     300       2.380952    300.0                           Tiger\n",
       "177     2     301       1.600000    301.0                       Tonkinese\n",
       "178     2     302       2.000000    302.0                          Torbie\n",
       "179     2     303       2.333333    303.0                   Tortoiseshell\n",
       "180     2     304       2.857143    304.0                  Turkish Angora\n",
       "181     2     305       2.875000    305.0                     Turkish Van\n",
       "182     2     306       2.482143    306.0                          Tuxedo\n",
       "183     2     307       4.000000      NaN                             NaN\n",
       "\n",
       "[184 rows x 5 columns]"
      ]
     },
     "execution_count": 14,
     "metadata": {},
     "output_type": "execute_result"
    }
   ],
   "source": [
    "# Observe the relationship between speicific breeds and adoption speed\n",
    "\n",
    "breed_speed = df.groupby(['Type','Breed1'])['AdoptionSpeed'].mean()\n",
    "\n",
    "breed_speed = pd.DataFrame(breed_speed).reset_index()\n",
    "\n",
    "breeds = pd.read_csv('breed_labels.csv')\n",
    "\n",
    "name_speed = pd.merge(breed_speed, breeds, how='left', left_on=['Type','Breed1'], right_on=['Type','BreedID'])\n",
    "\n",
    "name_speed"
   ]
  },
  {
   "cell_type": "code",
   "execution_count": 15,
   "metadata": {
    "ExecuteTime": {
     "end_time": "2019-09-25T16:39:04.223674Z",
     "start_time": "2019-09-25T16:39:04.222010Z"
    }
   },
   "outputs": [],
   "source": [
    "# pickle.dump(df, open('df.pickle', 'wb'))"
   ]
  },
  {
   "cell_type": "markdown",
   "metadata": {},
   "source": [
    "# Data Cleaning, One-Hot Encoding, Feature Engineering"
   ]
  },
  {
   "cell_type": "code",
   "execution_count": 16,
   "metadata": {
    "ExecuteTime": {
     "end_time": "2019-09-25T16:39:04.227453Z",
     "start_time": "2019-09-25T16:39:04.225169Z"
    }
   },
   "outputs": [],
   "source": [
    "# df = pickle.load(open('df.pickle', 'rb'))"
   ]
  },
  {
   "cell_type": "code",
   "execution_count": 17,
   "metadata": {
    "ExecuteTime": {
     "end_time": "2019-09-25T16:39:04.309040Z",
     "start_time": "2019-09-25T16:39:04.228958Z"
    }
   },
   "outputs": [],
   "source": [
    "# Create dummies for categorical features  \n",
    "# Data field descriptions can be found on https://www.kaggle.com/c/petfinder-adoption-prediction/data\n",
    "\n",
    "genders = pd.get_dummies(df['Gender']).rename(columns={1: \"Male\", 2: \"Female\", 3: \"Mixed_Genders\"})\n",
    "\n",
    "df = df.join(genders).drop('Gender', axis=1)\n",
    "\n",
    "types = pd.get_dummies(df['Type']).rename(columns={1: \"Dog\", 2: \"Cat\"})\n",
    "\n",
    "df = df.join(types).drop('Type', axis=1)\n",
    "\n",
    "mat_size = pd.get_dummies(df['MaturitySize'])\\\n",
    "    .rename(columns={1: \"Small_Size\", 2: \"Medium_Size\", 3: \"Large_Size\", 4: \"Extra_Large_Size\", 0: \"unspecified_size\"})\n",
    "\n",
    "df = df.join(mat_size).drop('MaturitySize', axis=1)\n",
    "\n",
    "fur_length = pd.get_dummies(df['FurLength'])\\\n",
    "    .rename(columns={1: \"Short_Fur\", 2: \"Medium_Fur\", 3: \"Long_Fur\", 0: \"unspecified_size\"})\n",
    "\n",
    "df = df.join(fur_length).drop('FurLength', axis=1)\n",
    "\n",
    "vaccinated = pd.get_dummies(df['Vaccinated'])\\\n",
    "    .rename(columns={1: \"Yes_Vaccinated\", 2: \"Not_Vaccinated\", 3: \"Unsure_Vaccinated\"})\n",
    "\n",
    "df = df.join(vaccinated).drop('Vaccinated', axis=1)\n",
    "\n",
    "dewormed = pd.get_dummies(df['Dewormed'])\\\n",
    "    .rename(columns={1: \"Yes_Dewormed\", 2: \"Not_Dewormed\", 3: \"Unsure_Dewormed\"})\n",
    "\n",
    "df = df.join(dewormed).drop('Dewormed', axis=1)\n",
    "\n",
    "sterilized = pd.get_dummies(df['Sterilized'])\\\n",
    "    .rename(columns={1: \"Yes_Sterilized\", 2: \"Not_Sterilized\", 3: \"Unsure_Sterilized\"})\n",
    "\n",
    "df = df.join(sterilized).drop('Sterilized', axis=1)\n",
    "\n",
    "health = pd.get_dummies(df['Health'])\\\n",
    "    .rename(columns={1: \"Healthy\", 2: \"Minor_Injury\", 3: \"Serious_Injury\", 0: \"unspecified_health\"})\n",
    "\n",
    "df = df.join(health).drop('Health', axis=1)"
   ]
  },
  {
   "cell_type": "code",
   "execution_count": 18,
   "metadata": {
    "ExecuteTime": {
     "end_time": "2019-09-25T16:39:04.454750Z",
     "start_time": "2019-09-25T16:39:04.310208Z"
    }
   },
   "outputs": [],
   "source": [
    "states = pd.read_csv('state_labels.csv')\n",
    "\n",
    "df = pd.merge(df,states[['StateID','StateName']], how='left', left_on='State', right_on='StateID').drop('StateID', axis=1)\n",
    "\n",
    "df = df.join(df['StateName'].str.get_dummies()).drop(['State','StateName'], axis=1)"
   ]
  },
  {
   "cell_type": "code",
   "execution_count": 19,
   "metadata": {
    "ExecuteTime": {
     "end_time": "2019-09-25T16:39:04.684319Z",
     "start_time": "2019-09-25T16:39:04.455941Z"
    }
   },
   "outputs": [],
   "source": [
    "colors = pd.read_csv('color_labels.csv')\n",
    "\n",
    "df = pd.merge(df,colors[['ColorID','ColorName']], how='left', left_on='Color1', right_on='ColorID').drop('ColorID', axis=1)\n",
    "\n",
    "df = pd.merge(df,colors[['ColorID','ColorName']], how='left', left_on='Color2', right_on='ColorID').drop('ColorID', axis=1)\n",
    "\n",
    "df = pd.merge(df,colors[['ColorID','ColorName']], how='left', left_on='Color3', right_on='ColorID').drop('ColorID', axis=1)\n",
    "\n",
    "df = df.join(df[['ColorName', 'ColorName_x', 'ColorName_y']].stack().str.get_dummies().sum(level=0))\n",
    "\n",
    "df = df.drop(['ColorName', 'ColorName_x', 'ColorName_y', 'Color1', 'Color2', 'Color3'], axis=1)"
   ]
  },
  {
   "cell_type": "code",
   "execution_count": 20,
   "metadata": {
    "ExecuteTime": {
     "end_time": "2019-09-25T16:39:04.692335Z",
     "start_time": "2019-09-25T16:39:04.685563Z"
    }
   },
   "outputs": [],
   "source": [
    "# Clean up breed information\n",
    "# Data includes two fields for breeds:  Breed1 and Breed2\n",
    "# Entry of '0' represents no secondary breed; need to clean entries so single breeds are listed in Breed1 only\n",
    "\n",
    "df.loc[df.Breed1 == 0, 'Breed1'] = df.Breed2\n",
    "\n",
    "df.loc[df.Breed1 == df.Breed2, 'Breed2'] = 0"
   ]
  },
  {
   "cell_type": "code",
   "execution_count": 21,
   "metadata": {
    "ExecuteTime": {
     "end_time": "2019-09-25T16:39:05.006973Z",
     "start_time": "2019-09-25T16:39:04.693487Z"
    }
   },
   "outputs": [],
   "source": [
    "# Create feature for pet being mixed breed\n",
    "# Entry of '307' represents mixed breed, but many pets also have two distinct breeds listed\n",
    "\n",
    "def is_mixed(row):\n",
    "    if row.Breed1 == 307:\n",
    "        val = 1\n",
    "    elif row.Breed2 == 307:\n",
    "        val = 1\n",
    "    elif row.Breed2 == 0:\n",
    "        val = 0\n",
    "    else:\n",
    "        val = 1\n",
    "    return val\n",
    "\n",
    "df['mixed_breed'] = df.apply(is_mixed, axis=1)"
   ]
  },
  {
   "cell_type": "code",
   "execution_count": 23,
   "metadata": {
    "ExecuteTime": {
     "end_time": "2019-09-25T16:45:40.893421Z",
     "start_time": "2019-09-25T16:45:40.290340Z"
    }
   },
   "outputs": [],
   "source": [
    "# There are 307 different breed labels with many having very few observations\n",
    "# Grouped all breeds outside of the top 60 in frequency and labeled as 'other_breed' before creating dummies\n",
    "\n",
    "other_breeds_list = list(df.groupby('Breed1')['Name'].count().sort_values(ascending=False)[60:].reset_index()['Breed1'])\n",
    "\n",
    "def is_other_breed(breed):\n",
    "    if breed in other_breeds_list:\n",
    "        return 308\n",
    "    else:\n",
    "        return breed\n",
    "\n",
    "df.Breed1 = df.Breed1.apply(lambda x: is_other_breed(x))\n",
    "df.Breed2 = df.Breed2.apply(lambda x: is_other_breed(x))\n",
    "\n",
    "breeds = pd.read_csv('breed_labels.csv')\n",
    "\n",
    "breeds = breeds.append({'BreedID': 308, 'BreedName': 'other_breed'}, ignore_index=True)\n",
    "\n",
    "df = pd.merge(df,breeds[['BreedID','BreedName']], how='left', left_on='Breed1', right_on='BreedID')\n",
    "\n",
    "df = df.drop('BreedID', axis=1)\n",
    "\n",
    "df = pd.merge(df,breeds[['BreedID','BreedName']], how='left', left_on='Breed2', right_on='BreedID')\n",
    "\n",
    "df = df.join(df[['BreedName_x','BreedName_y']].stack().str.get_dummies().sum(level=0))\n",
    "\n",
    "df = df.drop(['Breed1','Breed2','BreedName_x','BreedID','BreedName_y','Name','RescuerID'], axis=1)"
   ]
  },
  {
   "cell_type": "code",
   "execution_count": 24,
   "metadata": {
    "ExecuteTime": {
     "end_time": "2019-09-25T16:45:50.967483Z",
     "start_time": "2019-09-25T16:45:50.962522Z"
    }
   },
   "outputs": [
    {
     "data": {
      "text/plain": [
       "Index(['Age', 'Quantity', 'Fee', 'VideoAmt', 'Description', 'PetID',\n",
       "       'PhotoAmt', 'AdoptionSpeed', 'Adopted', 'Male', 'Female',\n",
       "       'Mixed_Genders', 'Dog', 'Cat', 'Small_Size', 'Medium_Size',\n",
       "       'Large_Size', 'Extra_Large_Size', 'Short_Fur', 'Medium_Fur', 'Long_Fur',\n",
       "       'Yes_Vaccinated', 'Not_Vaccinated', 'Unsure_Vaccinated', 'Yes_Dewormed',\n",
       "       'Not_Dewormed', 'Unsure_Dewormed', 'Yes_Sterilized', 'Not_Sterilized',\n",
       "       'Unsure_Sterilized', 'Healthy', 'Minor_Injury', 'Serious_Injury',\n",
       "       'Johor', 'Kedah', 'Kelantan', 'Kuala Lumpur', 'Labuan', 'Melaka',\n",
       "       'Negeri Sembilan', 'Pahang', 'Perak', 'Pulau Pinang', 'Sabah',\n",
       "       'Sarawak', 'Selangor', 'Terengganu', 'Black', 'Brown', 'Cream',\n",
       "       'Golden', 'Gray', 'White', 'Yellow', 'mixed_breed', 'Abyssinian',\n",
       "       'Afghan Hound', 'Akbash', 'American Curl', 'American Shorthair',\n",
       "       'Australian Cattle Dog/Blue Heeler', 'Beagle',\n",
       "       'Belgian Shepherd Malinois', 'Bengal', 'Bluetick Coonhound', 'Bobtail',\n",
       "       'Bombay', 'Border Collie', 'Border Terrier', 'Boxer',\n",
       "       'British Shorthair', 'Bull Terrier', 'Bullmastiff', 'Burmese', 'Calico',\n",
       "       'Chihuahua', 'Cocker Spaniel', 'Collie', 'Corgi', 'Dachshund',\n",
       "       'Dalmatian', 'Doberman Pinscher', 'Domestic Long Hair',\n",
       "       'Domestic Medium Hair', 'Domestic Short Hair', 'Finnish Spitz',\n",
       "       'German Shepherd Dog', 'German Shorthaired Pointer', 'Golden Retriever',\n",
       "       'Harrier', 'Hound', 'Husky', 'Jack Russell Terrier',\n",
       "       'Labrador Retriever', 'Maine Coon', 'Maltese', 'Miniature Pinscher',\n",
       "       'Mixed Breed', 'Munchkin', 'Norfolk Terrier', 'Oriental Long Hair',\n",
       "       'Oriental Short Hair', 'Pekingese', 'Persian', 'Pit Bull Terrier',\n",
       "       'Pomeranian', 'Poodle', 'Pug', 'Ragdoll', 'Rottweiler', 'Russian Blue',\n",
       "       'Schnauzer', 'Selkirk Rex', 'Shar Pei', 'Shih Tzu', 'Siamese',\n",
       "       'Siberian Husky', 'Silky Terrier', 'Singapura', 'Smooth Fox Terrier',\n",
       "       'Spitz', 'Tabby', 'Terrier', 'Tiger', 'Tortoiseshell', 'Tuxedo',\n",
       "       'Yellow Labrador Retriever', 'other_breed'],\n",
       "      dtype='object')"
      ]
     },
     "execution_count": 24,
     "metadata": {},
     "output_type": "execute_result"
    }
   ],
   "source": [
    "pd.options.display.max_seq_items = 1000\n",
    "df.columns"
   ]
  },
  {
   "cell_type": "code",
   "execution_count": 25,
   "metadata": {
    "ExecuteTime": {
     "end_time": "2019-09-25T16:45:50.973280Z",
     "start_time": "2019-09-25T16:45:50.968833Z"
    }
   },
   "outputs": [],
   "source": [
    "# pickle.dump(df, open('df_dummies.pickle', 'wb'))"
   ]
  },
  {
   "cell_type": "markdown",
   "metadata": {},
   "source": [
    "# Adding Text/Bio Features"
   ]
  },
  {
   "cell_type": "code",
   "execution_count": 26,
   "metadata": {
    "ExecuteTime": {
     "end_time": "2019-09-25T16:45:51.309457Z",
     "start_time": "2019-09-25T16:45:50.974496Z"
    }
   },
   "outputs": [],
   "source": [
    "import re\n",
    "import string\n",
    "from textblob import TextBlob\n",
    "from vaderSentiment.vaderSentiment import SentimentIntensityAnalyzer"
   ]
  },
  {
   "cell_type": "code",
   "execution_count": 27,
   "metadata": {
    "ExecuteTime": {
     "end_time": "2019-09-25T16:46:05.802170Z",
     "start_time": "2019-09-25T16:45:51.311160Z"
    }
   },
   "outputs": [],
   "source": [
    "# Create new dataframe with ID and bio, then clean before quanitfying with TextBlob and vaderSentiment\n",
    "\n",
    "df_text = df[['PetID','Description']]\n",
    "\n",
    "df_text = df_text.applymap(lambda x: x.strip().replace('\\n\\n', ' ').replace('\\n', ' '))\n",
    "\n",
    "def clean1(text):\n",
    "    text = re.sub('\\[.*?\\]', '', text)\n",
    "    text = re.sub('[%s]' % re.escape(string.punctuation), '', text)\n",
    "    text = re.sub('\\w*\\d\\w*', '', text)\n",
    "    text = re.sub('[‘’“”…]', '', text)\n",
    "    text = text.replace('／', ' ')\n",
    "    return text\n",
    "\n",
    "df_text.Description = df_text.Description.apply(lambda x: clean1(x))\n",
    "\n",
    "pol = lambda x: TextBlob(x).sentiment.polarity\n",
    "sub = lambda x: TextBlob(x).sentiment.subjectivity\n",
    "\n",
    "df_text['polarity'] = df_text['Description'].apply(pol)\n",
    "df_text['subjectivity'] = df_text['Description'].apply(sub)\n",
    "df_text['description_words'] = df_text.Description.apply(lambda x: len(x.split()))"
   ]
  },
  {
   "cell_type": "code",
   "execution_count": 28,
   "metadata": {
    "ExecuteTime": {
     "end_time": "2019-09-25T16:46:19.317436Z",
     "start_time": "2019-09-25T16:46:05.803382Z"
    }
   },
   "outputs": [
    {
     "data": {
      "text/html": [
       "<div>\n",
       "<style scoped>\n",
       "    .dataframe tbody tr th:only-of-type {\n",
       "        vertical-align: middle;\n",
       "    }\n",
       "\n",
       "    .dataframe tbody tr th {\n",
       "        vertical-align: top;\n",
       "    }\n",
       "\n",
       "    .dataframe thead th {\n",
       "        text-align: right;\n",
       "    }\n",
       "</style>\n",
       "<table border=\"1\" class=\"dataframe\">\n",
       "  <thead>\n",
       "    <tr style=\"text-align: right;\">\n",
       "      <th></th>\n",
       "      <th>PetID</th>\n",
       "      <th>Description</th>\n",
       "      <th>polarity</th>\n",
       "      <th>subjectivity</th>\n",
       "      <th>description_words</th>\n",
       "      <th>vader_sentiment</th>\n",
       "    </tr>\n",
       "  </thead>\n",
       "  <tbody>\n",
       "    <tr>\n",
       "      <th>0</th>\n",
       "      <td>86e1089a3</td>\n",
       "      <td>Nibble is a  month old ball of cuteness He is ...</td>\n",
       "      <td>0.130357</td>\n",
       "      <td>0.407143</td>\n",
       "      <td>68</td>\n",
       "      <td>0.9552</td>\n",
       "    </tr>\n",
       "    <tr>\n",
       "      <th>1</th>\n",
       "      <td>6296e909a</td>\n",
       "      <td>I just found it alone yesterday near my apartm...</td>\n",
       "      <td>0.100000</td>\n",
       "      <td>0.400000</td>\n",
       "      <td>23</td>\n",
       "      <td>0.1280</td>\n",
       "    </tr>\n",
       "    <tr>\n",
       "      <th>2</th>\n",
       "      <td>3422e4906</td>\n",
       "      <td>Their pregnant mother was dumped by her irresp...</td>\n",
       "      <td>0.261905</td>\n",
       "      <td>0.542857</td>\n",
       "      <td>69</td>\n",
       "      <td>0.7650</td>\n",
       "    </tr>\n",
       "    <tr>\n",
       "      <th>3</th>\n",
       "      <td>5842f1ff5</td>\n",
       "      <td>Good guard dog very alert active obedience wai...</td>\n",
       "      <td>0.327083</td>\n",
       "      <td>0.437500</td>\n",
       "      <td>25</td>\n",
       "      <td>0.9494</td>\n",
       "    </tr>\n",
       "    <tr>\n",
       "      <th>4</th>\n",
       "      <td>850a43f90</td>\n",
       "      <td>This handsome yet cute boy is up for adoption ...</td>\n",
       "      <td>0.400000</td>\n",
       "      <td>0.743750</td>\n",
       "      <td>79</td>\n",
       "      <td>0.9880</td>\n",
       "    </tr>\n",
       "  </tbody>\n",
       "</table>\n",
       "</div>"
      ],
      "text/plain": [
       "       PetID                                        Description  polarity  \\\n",
       "0  86e1089a3  Nibble is a  month old ball of cuteness He is ...  0.130357   \n",
       "1  6296e909a  I just found it alone yesterday near my apartm...  0.100000   \n",
       "2  3422e4906  Their pregnant mother was dumped by her irresp...  0.261905   \n",
       "3  5842f1ff5  Good guard dog very alert active obedience wai...  0.327083   \n",
       "4  850a43f90  This handsome yet cute boy is up for adoption ...  0.400000   \n",
       "\n",
       "   subjectivity  description_words  vader_sentiment  \n",
       "0      0.407143                 68           0.9552  \n",
       "1      0.400000                 23           0.1280  \n",
       "2      0.542857                 69           0.7650  \n",
       "3      0.437500                 25           0.9494  \n",
       "4      0.743750                 79           0.9880  "
      ]
     },
     "execution_count": 28,
     "metadata": {},
     "output_type": "execute_result"
    }
   ],
   "source": [
    "analyser = SentimentIntensityAnalyzer()\n",
    "\n",
    "analyser.polarity_scores(df_text.Description[0])['compound']\n",
    "\n",
    "df_text['vader_sentiment'] = df_text.Description.apply(lambda x:  analyser.polarity_scores(x)['compound'])\n",
    "\n",
    "df_text.head()"
   ]
  },
  {
   "cell_type": "code",
   "execution_count": 29,
   "metadata": {
    "ExecuteTime": {
     "end_time": "2019-09-25T16:46:19.345694Z",
     "start_time": "2019-09-25T16:46:19.318834Z"
    }
   },
   "outputs": [],
   "source": [
    "# Create two more features for inclusion of 'cute' and 'frinedly' in bio\n",
    "\n",
    "def is_cute(x):\n",
    "    if 'cute' in x:\n",
    "        return 1\n",
    "    elif 'Cute' in x:\n",
    "        return 1\n",
    "    else:\n",
    "        return 0\n",
    "\n",
    "df_text['is_cute'] = df_text.Description.apply(lambda x: is_cute(x))\n",
    "\n",
    "def is_friendly(x):\n",
    "    if 'friend' in x:\n",
    "        return 1\n",
    "    elif 'Friend' in x:\n",
    "        return 1\n",
    "    else:\n",
    "        return 0\n",
    "\n",
    "df_text['is_friendly'] = df_text.Description.apply(lambda x: is_friendly(x))"
   ]
  },
  {
   "cell_type": "code",
   "execution_count": 30,
   "metadata": {
    "ExecuteTime": {
     "end_time": "2019-09-25T16:46:19.351613Z",
     "start_time": "2019-09-25T16:46:19.347200Z"
    }
   },
   "outputs": [],
   "source": [
    "# pickle.dump(df_text, open('df_nlp.pickle', 'wb'))"
   ]
  },
  {
   "cell_type": "code",
   "execution_count": 31,
   "metadata": {
    "ExecuteTime": {
     "end_time": "2019-09-25T16:46:19.379149Z",
     "start_time": "2019-09-25T16:46:19.353066Z"
    }
   },
   "outputs": [],
   "source": [
    "df = pd.merge(df, \\\n",
    "              df_text[['PetID','polarity','subjectivity','description_words','vader_sentiment','is_cute','is_friendly']],\\\n",
    "              how='left', left_on='PetID', right_on='PetID')"
   ]
  },
  {
   "cell_type": "markdown",
   "metadata": {},
   "source": [
    "# Adding Image Features"
   ]
  },
  {
   "cell_type": "code",
   "execution_count": 32,
   "metadata": {
    "ExecuteTime": {
     "end_time": "2019-09-25T16:46:19.480709Z",
     "start_time": "2019-09-25T16:46:19.380431Z"
    }
   },
   "outputs": [],
   "source": [
    "# !pip install opencv-python\n",
    "import cv2\n",
    "from PIL import Image, ImageStat\n",
    "import os"
   ]
  },
  {
   "cell_type": "code",
   "execution_count": 33,
   "metadata": {
    "ExecuteTime": {
     "end_time": "2019-09-25T16:46:19.562388Z",
     "start_time": "2019-09-25T16:46:19.482089Z"
    }
   },
   "outputs": [
    {
     "data": {
      "text/plain": [
       "58311"
      ]
     },
     "execution_count": 33,
     "metadata": {},
     "output_type": "execute_result"
    }
   ],
   "source": [
    "def get_imlist(path):\n",
    "    return [os.path.join(path,f) for f in os.listdir(path) if f.endswith('.jpg')]\n",
    "\n",
    "len(get_imlist('train_images/'))"
   ]
  },
  {
   "cell_type": "code",
   "execution_count": 34,
   "metadata": {
    "ExecuteTime": {
     "end_time": "2019-09-25T16:46:19.566202Z",
     "start_time": "2019-09-25T16:46:19.563733Z"
    }
   },
   "outputs": [],
   "source": [
    "def brightness(im_file):\n",
    "    im = Image.open(im_file).convert('L')\n",
    "    stat = ImageStat.Stat(im)\n",
    "    return stat.mean[0]"
   ]
  },
  {
   "cell_type": "code",
   "execution_count": 35,
   "metadata": {
    "ExecuteTime": {
     "end_time": "2019-09-25T16:46:19.571087Z",
     "start_time": "2019-09-25T16:46:19.567520Z"
    }
   },
   "outputs": [],
   "source": [
    "def brightness_images(path):\n",
    "    collection = []\n",
    "    pet_ids = []\n",
    "    for image in os.listdir(path):\n",
    "        if image[-6:] == \"-1.jpg\":\n",
    "            collection.append(brightness(path + str(image)))\n",
    "            pet_ids.append(image[:9])\n",
    "    return collection, pet_ids"
   ]
  },
  {
   "cell_type": "code",
   "execution_count": 36,
   "metadata": {
    "ExecuteTime": {
     "end_time": "2019-09-25T16:46:52.944197Z",
     "start_time": "2019-09-25T16:46:19.572573Z"
    }
   },
   "outputs": [],
   "source": [
    "brightness, pet_ids = brightness_images('train_images/')"
   ]
  },
  {
   "cell_type": "code",
   "execution_count": 37,
   "metadata": {
    "ExecuteTime": {
     "end_time": "2019-09-25T16:46:52.956101Z",
     "start_time": "2019-09-25T16:46:52.946476Z"
    }
   },
   "outputs": [],
   "source": [
    "df_brightness = pd.DataFrame(list(zip(pet_ids, brightness)), \n",
    "               columns =['PetID', 'brightness'])"
   ]
  },
  {
   "cell_type": "code",
   "execution_count": 38,
   "metadata": {
    "ExecuteTime": {
     "end_time": "2019-09-25T16:46:52.960670Z",
     "start_time": "2019-09-25T16:46:52.958451Z"
    }
   },
   "outputs": [],
   "source": [
    "# pickle.dump(df_brightness, open('df_brightness.pickle','wb'))"
   ]
  },
  {
   "cell_type": "code",
   "execution_count": 39,
   "metadata": {
    "ExecuteTime": {
     "end_time": "2019-09-25T16:46:52.964194Z",
     "start_time": "2019-09-25T16:46:52.961985Z"
    }
   },
   "outputs": [],
   "source": [
    "def get_size(im_file):\n",
    "    image = cv2.imread(im_file)\n",
    "    size = image.shape[0] * image.shape[1]\n",
    "    return size"
   ]
  },
  {
   "cell_type": "code",
   "execution_count": 40,
   "metadata": {
    "ExecuteTime": {
     "end_time": "2019-09-25T16:46:52.968020Z",
     "start_time": "2019-09-25T16:46:52.965271Z"
    }
   },
   "outputs": [],
   "source": [
    "def size_images(path):\n",
    "    collection = []\n",
    "    pet_ids = []\n",
    "    for image in os.listdir(path):\n",
    "        if image[-6:] == \"-1.jpg\":\n",
    "            collection.append(get_size(path + str(image)))\n",
    "            pet_ids.append(image[:9])\n",
    "    return collection, pet_ids"
   ]
  },
  {
   "cell_type": "code",
   "execution_count": 41,
   "metadata": {
    "ExecuteTime": {
     "end_time": "2019-09-25T16:47:13.047683Z",
     "start_time": "2019-09-25T16:46:52.969161Z"
    }
   },
   "outputs": [],
   "source": [
    "sizes, pet_ids = size_images('train_images/')"
   ]
  },
  {
   "cell_type": "code",
   "execution_count": 42,
   "metadata": {
    "ExecuteTime": {
     "end_time": "2019-09-25T16:47:13.055255Z",
     "start_time": "2019-09-25T16:47:13.048900Z"
    }
   },
   "outputs": [],
   "source": [
    "df_image_size = pd.DataFrame(list(zip(pet_ids, sizes)), \n",
    "               columns =['PetID', 'image_size'])"
   ]
  },
  {
   "cell_type": "code",
   "execution_count": 43,
   "metadata": {
    "ExecuteTime": {
     "end_time": "2019-09-25T16:47:13.060715Z",
     "start_time": "2019-09-25T16:47:13.056474Z"
    }
   },
   "outputs": [],
   "source": [
    "# pickle.dump(df_image_size, open('df_image_size.pickle','wb'))"
   ]
  },
  {
   "cell_type": "code",
   "execution_count": 44,
   "metadata": {
    "ExecuteTime": {
     "end_time": "2019-09-25T16:47:13.077744Z",
     "start_time": "2019-09-25T16:47:13.062077Z"
    }
   },
   "outputs": [],
   "source": [
    "df = pd.merge(df, df_brightness[['PetID','brightness']],\\\n",
    "                        how='left', left_on='PetID', right_on='PetID')\n",
    "\n",
    "df.brightness = df.brightness.fillna(df.brightness.mean())"
   ]
  },
  {
   "cell_type": "code",
   "execution_count": 45,
   "metadata": {
    "ExecuteTime": {
     "end_time": "2019-09-25T16:47:13.093990Z",
     "start_time": "2019-09-25T16:47:13.079027Z"
    }
   },
   "outputs": [],
   "source": [
    "df = pd.merge(df, df_image_size[['PetID','image_size']],\\\n",
    "                        how='left', left_on='PetID', right_on='PetID')\n",
    "\n",
    "df.image_size = df.image_size.fillna(0)"
   ]
  },
  {
   "cell_type": "code",
   "execution_count": 46,
   "metadata": {
    "ExecuteTime": {
     "end_time": "2019-09-25T16:47:13.099179Z",
     "start_time": "2019-09-25T16:47:13.095316Z"
    }
   },
   "outputs": [
    {
     "data": {
      "text/plain": [
       "Index(['Age', 'Quantity', 'Fee', 'VideoAmt', 'Description', 'PetID',\n",
       "       'PhotoAmt', 'AdoptionSpeed', 'Adopted', 'Male', 'Female',\n",
       "       'Mixed_Genders', 'Dog', 'Cat', 'Small_Size', 'Medium_Size',\n",
       "       'Large_Size', 'Extra_Large_Size', 'Short_Fur', 'Medium_Fur', 'Long_Fur',\n",
       "       'Yes_Vaccinated', 'Not_Vaccinated', 'Unsure_Vaccinated', 'Yes_Dewormed',\n",
       "       'Not_Dewormed', 'Unsure_Dewormed', 'Yes_Sterilized', 'Not_Sterilized',\n",
       "       'Unsure_Sterilized', 'Healthy', 'Minor_Injury', 'Serious_Injury',\n",
       "       'Johor', 'Kedah', 'Kelantan', 'Kuala Lumpur', 'Labuan', 'Melaka',\n",
       "       'Negeri Sembilan', 'Pahang', 'Perak', 'Pulau Pinang', 'Sabah',\n",
       "       'Sarawak', 'Selangor', 'Terengganu', 'Black', 'Brown', 'Cream',\n",
       "       'Golden', 'Gray', 'White', 'Yellow', 'mixed_breed', 'Abyssinian',\n",
       "       'Afghan Hound', 'Akbash', 'American Curl', 'American Shorthair',\n",
       "       'Australian Cattle Dog/Blue Heeler', 'Beagle',\n",
       "       'Belgian Shepherd Malinois', 'Bengal', 'Bluetick Coonhound', 'Bobtail',\n",
       "       'Bombay', 'Border Collie', 'Border Terrier', 'Boxer',\n",
       "       'British Shorthair', 'Bull Terrier', 'Bullmastiff', 'Burmese', 'Calico',\n",
       "       'Chihuahua', 'Cocker Spaniel', 'Collie', 'Corgi', 'Dachshund',\n",
       "       'Dalmatian', 'Doberman Pinscher', 'Domestic Long Hair',\n",
       "       'Domestic Medium Hair', 'Domestic Short Hair', 'Finnish Spitz',\n",
       "       'German Shepherd Dog', 'German Shorthaired Pointer', 'Golden Retriever',\n",
       "       'Harrier', 'Hound', 'Husky', 'Jack Russell Terrier',\n",
       "       'Labrador Retriever', 'Maine Coon', 'Maltese', 'Miniature Pinscher',\n",
       "       'Mixed Breed', 'Munchkin', 'Norfolk Terrier', 'Oriental Long Hair',\n",
       "       'Oriental Short Hair', 'Pekingese', 'Persian', 'Pit Bull Terrier',\n",
       "       'Pomeranian', 'Poodle', 'Pug', 'Ragdoll', 'Rottweiler', 'Russian Blue',\n",
       "       'Schnauzer', 'Selkirk Rex', 'Shar Pei', 'Shih Tzu', 'Siamese',\n",
       "       'Siberian Husky', 'Silky Terrier', 'Singapura', 'Smooth Fox Terrier',\n",
       "       'Spitz', 'Tabby', 'Terrier', 'Tiger', 'Tortoiseshell', 'Tuxedo',\n",
       "       'Yellow Labrador Retriever', 'other_breed', 'polarity', 'subjectivity',\n",
       "       'description_words', 'vader_sentiment', 'is_cute', 'is_friendly',\n",
       "       'brightness', 'image_size'],\n",
       "      dtype='object')"
      ]
     },
     "execution_count": 46,
     "metadata": {},
     "output_type": "execute_result"
    }
   ],
   "source": [
    "df.columns"
   ]
  },
  {
   "cell_type": "code",
   "execution_count": 47,
   "metadata": {
    "ExecuteTime": {
     "end_time": "2019-09-25T16:47:13.102870Z",
     "start_time": "2019-09-25T16:47:13.100696Z"
    }
   },
   "outputs": [],
   "source": [
    "# pickle.dump(df, open('df_modeling.pickle','wb'))"
   ]
  },
  {
   "cell_type": "markdown",
   "metadata": {},
   "source": [
    "# Initial Modeling"
   ]
  },
  {
   "cell_type": "code",
   "execution_count": 48,
   "metadata": {
    "ExecuteTime": {
     "end_time": "2019-09-25T16:47:13.125416Z",
     "start_time": "2019-09-25T16:47:13.104158Z"
    }
   },
   "outputs": [],
   "source": [
    "from sklearn.linear_model import LogisticRegression\n",
    "from sklearn.ensemble import RandomForestClassifier\n",
    "from sklearn.naive_bayes import GaussianNB, MultinomialNB, BernoulliNB\n",
    "from sklearn.neighbors import KNeighborsClassifier\n",
    "from sklearn import svm\n",
    "from sklearn.model_selection import train_test_split\n",
    "from sklearn.metrics import precision_score, recall_score, precision_recall_curve, f1_score, fbeta_score\n",
    "from sklearn.metrics import confusion_matrix\n",
    "from sklearn.metrics import roc_auc_score, roc_curve\n",
    "from sklearn.metrics import accuracy_score\n",
    "from sklearn.metrics import classification_report\n",
    "import xgboost as xgb"
   ]
  },
  {
   "cell_type": "code",
   "execution_count": 49,
   "metadata": {
    "ExecuteTime": {
     "end_time": "2019-09-25T16:47:13.128431Z",
     "start_time": "2019-09-25T16:47:13.126605Z"
    }
   },
   "outputs": [],
   "source": [
    "# df = pickle.load(open('df_modeling.pickle', 'rb'))"
   ]
  },
  {
   "cell_type": "code",
   "execution_count": 50,
   "metadata": {
    "ExecuteTime": {
     "end_time": "2019-09-25T16:47:13.161560Z",
     "start_time": "2019-09-25T16:47:13.130319Z"
    }
   },
   "outputs": [],
   "source": [
    "# Before modeling with binary classification (adopted within 3 months or not),\n",
    "# I did initial multiclass modeling on the provided dependent variable 'AdoptionSpeed'\n",
    "# which had 5 distinct time buckets as outcomes, but only achieved ~40% accuracy with XGBoost.\n",
    "# As my goal was to find the top predictors for adoption, scarificing so much accuracy \n",
    "# for more granularity did not make much sense, so I proceeded to do my analysis using ionly binary classes.\n",
    "\n",
    "X, y = df.drop(['PetID','Description','AdoptionSpeed','Adopted'], axis=1), df.Adopted\n",
    "\n",
    "X, X_test, y, y_test = train_test_split(X, y, test_size=.2, random_state=42)"
   ]
  },
  {
   "cell_type": "code",
   "execution_count": 51,
   "metadata": {
    "ExecuteTime": {
     "end_time": "2019-09-25T16:47:13.283028Z",
     "start_time": "2019-09-25T16:47:13.163056Z"
    }
   },
   "outputs": [
    {
     "name": "stdout",
     "output_type": "stream",
     "text": [
      "Accuracy =  0.7222407469156386\n",
      "F1 Score =  [0.         0.83872217]\n",
      "ROC AUC score =  0.5391452980084\n",
      "[[   0  833]\n",
      " [   0 2166]]\n"
     ]
    },
    {
     "name": "stderr",
     "output_type": "stream",
     "text": [
      "/home/rob/anaconda3/envs/metis/lib/python3.6/site-packages/sklearn/linear_model/logistic.py:432: FutureWarning: Default solver will be changed to 'lbfgs' in 0.22. Specify a solver to silence this warning.\n",
      "  FutureWarning)\n",
      "/home/rob/anaconda3/envs/metis/lib/python3.6/site-packages/sklearn/metrics/classification.py:1437: UndefinedMetricWarning: F-score is ill-defined and being set to 0.0 in labels with no predicted samples.\n",
      "  'precision', 'predicted', average, warn_for)\n"
     ]
    }
   ],
   "source": [
    "lr = LogisticRegression()\n",
    "lr.fit(X,y)\n",
    "\n",
    "print(\"Accuracy = \", lr.score(X_test, y_test))\n",
    "\n",
    "y_predict = lr.predict(X_test)\n",
    "print(\"F1 Score = \", f1_score(y_test, y_predict, average=None))\n",
    "\n",
    "fpr, tpr, thresholds = roc_curve(y_test, lr.predict_proba(X_test)[:,1])\n",
    "print(\"ROC AUC score = \", roc_auc_score(y_test, lr.predict_proba(X_test)[:,1]))\n",
    "\n",
    "print(confusion_matrix(y_test, lr.predict(X_test)))"
   ]
  },
  {
   "cell_type": "code",
   "execution_count": 52,
   "metadata": {
    "ExecuteTime": {
     "end_time": "2019-09-25T16:47:13.513838Z",
     "start_time": "2019-09-25T16:47:13.285616Z"
    }
   },
   "outputs": [
    {
     "name": "stderr",
     "output_type": "stream",
     "text": [
      "/home/rob/anaconda3/envs/metis/lib/python3.6/site-packages/sklearn/ensemble/forest.py:245: FutureWarning: The default value of n_estimators will change from 10 in version 0.20 to 100 in 0.22.\n",
      "  \"10 in version 0.20 to 100 in 0.22.\", FutureWarning)\n"
     ]
    },
    {
     "name": "stdout",
     "output_type": "stream",
     "text": [
      "Accuracy =  0.7435811937312438\n",
      "F1 Score =  0.830654040960141\n",
      "ROC AUC score =  0.7391286154350937\n",
      "[[ 344  489]\n",
      " [ 280 1886]]\n"
     ]
    }
   ],
   "source": [
    "tree = RandomForestClassifier()\n",
    "tree.fit(X,y)\n",
    "\n",
    "print(\"Accuracy = \", tree.score(X_test, y_test))\n",
    "\n",
    "y_predict = tree.predict(X_test)\n",
    "print(\"F1 Score = \", f1_score(y_test, y_predict))\n",
    "\n",
    "fpr, tpr, thresholds = roc_curve(y_test, tree.predict_proba(X_test)[:,1])\n",
    "print(\"ROC AUC score = \", roc_auc_score(y_test, tree.predict_proba(X_test)[:,1]))\n",
    "\n",
    "print(confusion_matrix(y_test, tree.predict(X_test)))"
   ]
  },
  {
   "cell_type": "code",
   "execution_count": 53,
   "metadata": {
    "ExecuteTime": {
     "end_time": "2019-09-25T16:47:13.523006Z",
     "start_time": "2019-09-25T16:47:13.514931Z"
    }
   },
   "outputs": [
    {
     "data": {
      "text/plain": [
       "[('Age', 0.08572337084855579),\n",
       " ('description_words', 0.06995446471765895),\n",
       " ('image_size', 0.06947466493033491),\n",
       " ('vader_sentiment', 0.06899386944789934),\n",
       " ('brightness', 0.06586474895316764),\n",
       " ('polarity', 0.06523230080875632),\n",
       " ('subjectivity', 0.06255888188374113),\n",
       " ('PhotoAmt', 0.047953070799758246),\n",
       " ('Quantity', 0.025316614163220133),\n",
       " ('Not_Sterilized', 0.019139217279831314),\n",
       " ('Fee', 0.017728058402756718),\n",
       " ('Black', 0.014824105401960096),\n",
       " ('Mixed Breed', 0.013786349325923423),\n",
       " ('White', 0.013536662373042251),\n",
       " ('Brown', 0.01325065006715159),\n",
       " ('Selangor', 0.011694380424793533),\n",
       " ('is_friendly', 0.011585529036253775),\n",
       " ('Medium_Size', 0.011051676692367304),\n",
       " ('Small_Size', 0.010641205193625188),\n",
       " ('mixed_breed', 0.010583758824121594),\n",
       " ('Female', 0.010568509776372487),\n",
       " ('Short_Fur', 0.010562613289245591),\n",
       " ('Medium_Fur', 0.010313284974685534),\n",
       " ('Male', 0.010195186970782736),\n",
       " ('Kuala Lumpur', 0.009737057614479246),\n",
       " ('Cream', 0.009672859471738184),\n",
       " ('Not_Vaccinated', 0.009648045074817554),\n",
       " ('Unsure_Sterilized', 0.009378073308214366),\n",
       " ('Not_Dewormed', 0.009264199925868877),\n",
       " ('Yes_Dewormed', 0.009133327873587017),\n",
       " ('Yellow', 0.008835880816779986),\n",
       " ('Golden', 0.008461764300942682),\n",
       " ('Yes_Sterilized', 0.00836250652300163),\n",
       " ('is_cute', 0.008324020312799534),\n",
       " ('Yes_Vaccinated', 0.008071972294990007),\n",
       " ('Gray', 0.007897129408462924),\n",
       " ('Domestic Short Hair', 0.007584566833546502),\n",
       " ('Cat', 0.007291067541535732),\n",
       " ('Dog', 0.006950175636127853),\n",
       " ('Mixed_Genders', 0.006764644723524816),\n",
       " ('Pulau Pinang', 0.00671798749986623),\n",
       " ('Unsure_Vaccinated', 0.006187945808259912),\n",
       " ('Large_Size', 0.005520148139624782),\n",
       " ('Long_Fur', 0.005208017578974129),\n",
       " ('VideoAmt', 0.0050537704804818),\n",
       " ('Unsure_Dewormed', 0.0049613564889685975),\n",
       " ('Domestic Medium Hair', 0.004857156460332238),\n",
       " ('Perak', 0.004516649931059969),\n",
       " ('Minor_Injury', 0.00425464859026724),\n",
       " ('Negeri Sembilan', 0.0042095065193590705),\n",
       " ('Johor', 0.004088123969968045),\n",
       " ('Healthy', 0.004016820274194674),\n",
       " ('other_breed', 0.00374625824965866),\n",
       " ('Melaka', 0.0032907268684009405),\n",
       " ('Tabby', 0.0029237340864758372),\n",
       " ('Siamese', 0.002523073378477445),\n",
       " ('Terrier', 0.002273292222776396),\n",
       " ('Labrador Retriever', 0.0022105308680360216),\n",
       " ('Domestic Long Hair', 0.0021085667796908337),\n",
       " ('Persian', 0.002099653683801514),\n",
       " ('American Shorthair', 0.0018916919289983106),\n",
       " ('German Shepherd Dog', 0.0016746013365603921),\n",
       " ('Poodle', 0.0016686679292950471),\n",
       " ('Spitz', 0.0015965894899462691),\n",
       " ('Beagle', 0.0015186547176086903),\n",
       " ('Calico', 0.0015078678024792794),\n",
       " ('Golden Retriever', 0.0014985105742935899),\n",
       " ('Kedah', 0.0013368864869731326),\n",
       " ('Oriental Short Hair', 0.0013040217397600395),\n",
       " ('Shih Tzu', 0.0010515760975981202),\n",
       " ('Doberman Pinscher', 0.0008606469724534401),\n",
       " ('Rottweiler', 0.0008218357767338689),\n",
       " ('Pahang', 0.0008184265721957561),\n",
       " ('Dalmatian', 0.000713877714044202),\n",
       " ('Schnauzer', 0.0006911421569986882),\n",
       " ('Belgian Shepherd Malinois', 0.0006494422917989578),\n",
       " ('Sarawak', 0.0006221758191803438),\n",
       " ('Singapura', 0.0005808246156438735),\n",
       " ('Miniature Pinscher', 0.0005623340897338201),\n",
       " ('Tuxedo', 0.0005570520198729287),\n",
       " ('Tortoiseshell', 0.0005507781738532426),\n",
       " ('Jack Russell Terrier', 0.0005494484575318567),\n",
       " ('Serious_Injury', 0.0005370274148408207),\n",
       " ('Tiger', 0.0005087038393366924),\n",
       " ('Pit Bull Terrier', 0.0004899127953588194),\n",
       " ('Bengal', 0.0004846623947059785),\n",
       " ('Oriental Long Hair', 0.00048200224994177603),\n",
       " ('Bobtail', 0.0004698028965931666),\n",
       " ('Terengganu', 0.0004328758333908092),\n",
       " ('Cocker Spaniel', 0.00041617511517795633),\n",
       " ('Burmese', 0.0004052290584879433),\n",
       " ('Border Collie', 0.00040149059326925816),\n",
       " ('Hound', 0.0003996963967166148),\n",
       " ('Corgi', 0.00039381204976938333),\n",
       " ('Abyssinian', 0.0003844071349523798),\n",
       " ('Maine Coon', 0.00036646265500981116),\n",
       " ('Dachshund', 0.0003161598888092593),\n",
       " ('Husky', 0.0003119892745324998),\n",
       " ('Shar Pei', 0.000309898541414622),\n",
       " ('Extra_Large_Size', 0.00024725477853971694),\n",
       " ('Bull Terrier', 0.00024350687172257636),\n",
       " ('British Shorthair', 0.00022802475433087916),\n",
       " ('Maltese', 0.000204387404289041),\n",
       " ('Siberian Husky', 0.0002005426882668339),\n",
       " ('Collie', 0.0001947049969912883),\n",
       " ('Chihuahua', 0.00019404241402977968),\n",
       " ('Bombay', 0.00018317850722967605),\n",
       " ('Sabah', 0.00017255444303425173),\n",
       " ('Bullmastiff', 0.00016112499251004093),\n",
       " ('Ragdoll', 0.00015579933649005894),\n",
       " ('Silky Terrier', 0.00015225815238587053),\n",
       " ('Boxer', 0.00014293325676188734),\n",
       " ('Pekingese', 0.00013841631480041068),\n",
       " ('Kelantan', 9.601133316481506e-05),\n",
       " ('Russian Blue', 9.576177080862825e-05),\n",
       " ('American Curl', 9.355501846928287e-05),\n",
       " ('Pomeranian', 8.69500403894813e-05),\n",
       " ('Pug', 7.276720562187469e-05),\n",
       " ('Border Terrier', 4.039574203094121e-05),\n",
       " ('Selkirk Rex', 3.203535887385204e-05),\n",
       " ('Munchkin', 2.6645057300167916e-05),\n",
       " ('Australian Cattle Dog/Blue Heeler', 1.8524320603564866e-05),\n",
       " ('Yellow Labrador Retriever', 2.830220396744189e-06),\n",
       " ('Labuan', 0.0),\n",
       " ('Afghan Hound', 0.0),\n",
       " ('Akbash', 0.0),\n",
       " ('Bluetick Coonhound', 0.0),\n",
       " ('Finnish Spitz', 0.0),\n",
       " ('German Shorthaired Pointer', 0.0),\n",
       " ('Harrier', 0.0),\n",
       " ('Norfolk Terrier', 0.0),\n",
       " ('Smooth Fox Terrier', 0.0)]"
      ]
     },
     "execution_count": 53,
     "metadata": {},
     "output_type": "execute_result"
    }
   ],
   "source": [
    "sorted(list(zip(list(X.columns),list(tree.feature_importances_))), key=lambda tup: tup[1], reverse=True)"
   ]
  },
  {
   "cell_type": "code",
   "execution_count": 54,
   "metadata": {
    "ExecuteTime": {
     "end_time": "2019-09-25T16:47:15.392694Z",
     "start_time": "2019-09-25T16:47:13.524020Z"
    }
   },
   "outputs": [
    {
     "name": "stdout",
     "output_type": "stream",
     "text": [
      "Accuracy =  0.6962320773591197\n",
      "F1 Score =  [0.32468495 0.80404388]\n",
      "ROC AUC score =  0.6116726468980944\n",
      "[[ 219  614]\n",
      " [ 297 1869]]\n"
     ]
    }
   ],
   "source": [
    "knn = KNeighborsClassifier(n_neighbors=5)\n",
    "knn.fit(X, y)\n",
    "\n",
    "print(\"Accuracy = \", knn.score(X_test, y_test))\n",
    "\n",
    "y_predict = knn.predict(X_test)\n",
    "print(\"F1 Score = \", f1_score(y_test, y_predict, average=None))\n",
    "\n",
    "fpr, tpr, thresholds = roc_curve(y_test, knn.predict_proba(X_test)[:,1])\n",
    "print(\"ROC AUC score = \", roc_auc_score(y_test, knn.predict_proba(X_test)[:,1]))\n",
    "\n",
    "print(confusion_matrix(y_test, knn.predict(X_test)))"
   ]
  },
  {
   "cell_type": "code",
   "execution_count": 55,
   "metadata": {
    "ExecuteTime": {
     "end_time": "2019-09-25T16:47:15.448281Z",
     "start_time": "2019-09-25T16:47:15.393818Z"
    }
   },
   "outputs": [
    {
     "name": "stdout",
     "output_type": "stream",
     "text": [
      "Accuracy =  0.7012337445815272\n",
      "F1 Score =  [0.17343173 0.81766382]\n",
      "ROC AUC score =  0.6193956807099571\n",
      "[[  94  739]\n",
      " [ 157 2009]]\n"
     ]
    }
   ],
   "source": [
    "nb = GaussianNB()\n",
    "nb.fit(X,y)\n",
    "\n",
    "print(\"Accuracy = \", nb.score(X_test, y_test))\n",
    "\n",
    "y_predict = nb.predict(X_test)\n",
    "print(\"F1 Score = \", f1_score(y_test, y_predict, average=None))\n",
    "\n",
    "fpr, tpr, thresholds = roc_curve(y_test, nb.predict_proba(X_test)[:,1])\n",
    "print(\"ROC AUC score = \", roc_auc_score(y_test, nb.predict_proba(X_test)[:,1]))\n",
    "\n",
    "print(confusion_matrix(y_test, nb.predict(X_test)))"
   ]
  },
  {
   "cell_type": "code",
   "execution_count": 56,
   "metadata": {
    "ExecuteTime": {
     "end_time": "2019-09-25T16:47:15.543418Z",
     "start_time": "2019-09-25T16:47:15.449452Z"
    }
   },
   "outputs": [
    {
     "name": "stdout",
     "output_type": "stream",
     "text": [
      "Accuracy =  0.7195731910636879\n",
      "F1 Score =  [0.42828008 0.81422576]\n",
      "ROC AUC score =  0.6820376349985977\n",
      "[[ 315  518]\n",
      " [ 323 1843]]\n"
     ]
    }
   ],
   "source": [
    "nb = BernoulliNB()\n",
    "nb.fit(X,y)\n",
    "\n",
    "print(\"Accuracy = \", nb.score(X_test, y_test))\n",
    "\n",
    "y_predict = nb.predict(X_test)\n",
    "print(\"F1 Score = \", f1_score(y_test, y_predict, average=None))\n",
    "\n",
    "fpr, tpr, thresholds = roc_curve(y_test, nb.predict_proba(X_test)[:,1])\n",
    "print(\"ROC AUC score = \", roc_auc_score(y_test, nb.predict_proba(X_test)[:,1]))\n",
    "\n",
    "print(confusion_matrix(y_test, nb.predict(X_test)))"
   ]
  },
  {
   "cell_type": "code",
   "execution_count": 57,
   "metadata": {
    "ExecuteTime": {
     "end_time": "2019-09-25T16:47:22.547076Z",
     "start_time": "2019-09-25T16:47:15.545435Z"
    }
   },
   "outputs": [
    {
     "name": "stdout",
     "output_type": "stream",
     "text": [
      "[0]\tvalidation_0-rmse:0.485875\tvalidation_1-rmse:0.485709\n",
      "Multiple eval metrics have been passed: 'validation_1-rmse' will be used for early stopping.\n",
      "\n",
      "Will train until validation_1-rmse hasn't improved in 20 rounds.\n",
      "[1]\tvalidation_0-rmse:0.475335\tvalidation_1-rmse:0.474823\n",
      "[2]\tvalidation_0-rmse:0.465179\tvalidation_1-rmse:0.46431\n",
      "[3]\tvalidation_0-rmse:0.457667\tvalidation_1-rmse:0.456517\n",
      "[4]\tvalidation_0-rmse:0.450298\tvalidation_1-rmse:0.448964\n",
      "[5]\tvalidation_0-rmse:0.444118\tvalidation_1-rmse:0.442826\n",
      "[6]\tvalidation_0-rmse:0.438941\tvalidation_1-rmse:0.437557\n",
      "[7]\tvalidation_0-rmse:0.434488\tvalidation_1-rmse:0.433122\n",
      "[8]\tvalidation_0-rmse:0.430767\tvalidation_1-rmse:0.429431\n",
      "[9]\tvalidation_0-rmse:0.427567\tvalidation_1-rmse:0.42646\n",
      "[10]\tvalidation_0-rmse:0.424656\tvalidation_1-rmse:0.423836\n",
      "[11]\tvalidation_0-rmse:0.422289\tvalidation_1-rmse:0.421555\n",
      "[12]\tvalidation_0-rmse:0.420254\tvalidation_1-rmse:0.419506\n",
      "[13]\tvalidation_0-rmse:0.418472\tvalidation_1-rmse:0.417805\n",
      "[14]\tvalidation_0-rmse:0.416948\tvalidation_1-rmse:0.416517\n",
      "[15]\tvalidation_0-rmse:0.415506\tvalidation_1-rmse:0.415091\n",
      "[16]\tvalidation_0-rmse:0.41412\tvalidation_1-rmse:0.413986\n",
      "[17]\tvalidation_0-rmse:0.412974\tvalidation_1-rmse:0.41317\n",
      "[18]\tvalidation_0-rmse:0.411912\tvalidation_1-rmse:0.412172\n",
      "[19]\tvalidation_0-rmse:0.410891\tvalidation_1-rmse:0.41131\n",
      "[20]\tvalidation_0-rmse:0.409987\tvalidation_1-rmse:0.410442\n",
      "[21]\tvalidation_0-rmse:0.409084\tvalidation_1-rmse:0.409796\n",
      "[22]\tvalidation_0-rmse:0.408203\tvalidation_1-rmse:0.409286\n",
      "[23]\tvalidation_0-rmse:0.407413\tvalidation_1-rmse:0.408446\n",
      "[24]\tvalidation_0-rmse:0.406612\tvalidation_1-rmse:0.407875\n",
      "[25]\tvalidation_0-rmse:0.405971\tvalidation_1-rmse:0.407437\n",
      "[26]\tvalidation_0-rmse:0.405298\tvalidation_1-rmse:0.406879\n",
      "[27]\tvalidation_0-rmse:0.404585\tvalidation_1-rmse:0.40634\n",
      "[28]\tvalidation_0-rmse:0.403925\tvalidation_1-rmse:0.405815\n",
      "[29]\tvalidation_0-rmse:0.403342\tvalidation_1-rmse:0.40525\n",
      "[30]\tvalidation_0-rmse:0.40285\tvalidation_1-rmse:0.404899\n",
      "[31]\tvalidation_0-rmse:0.402301\tvalidation_1-rmse:0.404609\n",
      "[32]\tvalidation_0-rmse:0.401774\tvalidation_1-rmse:0.404249\n",
      "[33]\tvalidation_0-rmse:0.401392\tvalidation_1-rmse:0.403998\n",
      "[34]\tvalidation_0-rmse:0.400853\tvalidation_1-rmse:0.403716\n",
      "[35]\tvalidation_0-rmse:0.400215\tvalidation_1-rmse:0.403236\n",
      "[36]\tvalidation_0-rmse:0.399571\tvalidation_1-rmse:0.402856\n",
      "[37]\tvalidation_0-rmse:0.399082\tvalidation_1-rmse:0.402592\n",
      "[38]\tvalidation_0-rmse:0.398834\tvalidation_1-rmse:0.402369\n",
      "[39]\tvalidation_0-rmse:0.398438\tvalidation_1-rmse:0.402185\n",
      "[40]\tvalidation_0-rmse:0.39797\tvalidation_1-rmse:0.401889\n",
      "[41]\tvalidation_0-rmse:0.397262\tvalidation_1-rmse:0.401537\n",
      "[42]\tvalidation_0-rmse:0.396905\tvalidation_1-rmse:0.401313\n",
      "[43]\tvalidation_0-rmse:0.396523\tvalidation_1-rmse:0.40113\n",
      "[44]\tvalidation_0-rmse:0.396104\tvalidation_1-rmse:0.40098\n",
      "[45]\tvalidation_0-rmse:0.395827\tvalidation_1-rmse:0.400902\n",
      "[46]\tvalidation_0-rmse:0.395481\tvalidation_1-rmse:0.400748\n",
      "[47]\tvalidation_0-rmse:0.395271\tvalidation_1-rmse:0.400584\n",
      "[48]\tvalidation_0-rmse:0.394865\tvalidation_1-rmse:0.400286\n",
      "[49]\tvalidation_0-rmse:0.394437\tvalidation_1-rmse:0.400053\n",
      "[50]\tvalidation_0-rmse:0.394068\tvalidation_1-rmse:0.40009\n",
      "[51]\tvalidation_0-rmse:0.393679\tvalidation_1-rmse:0.399821\n",
      "[52]\tvalidation_0-rmse:0.393476\tvalidation_1-rmse:0.399717\n",
      "[53]\tvalidation_0-rmse:0.393193\tvalidation_1-rmse:0.39961\n",
      "[54]\tvalidation_0-rmse:0.392747\tvalidation_1-rmse:0.399398\n",
      "[55]\tvalidation_0-rmse:0.392494\tvalidation_1-rmse:0.399326\n",
      "[56]\tvalidation_0-rmse:0.392248\tvalidation_1-rmse:0.399255\n",
      "[57]\tvalidation_0-rmse:0.391954\tvalidation_1-rmse:0.399094\n",
      "[58]\tvalidation_0-rmse:0.39157\tvalidation_1-rmse:0.398857\n",
      "[59]\tvalidation_0-rmse:0.391344\tvalidation_1-rmse:0.398775\n",
      "[60]\tvalidation_0-rmse:0.390939\tvalidation_1-rmse:0.398713\n",
      "[61]\tvalidation_0-rmse:0.390763\tvalidation_1-rmse:0.398655\n",
      "[62]\tvalidation_0-rmse:0.390478\tvalidation_1-rmse:0.398502\n",
      "[63]\tvalidation_0-rmse:0.390129\tvalidation_1-rmse:0.398282\n",
      "[64]\tvalidation_0-rmse:0.389797\tvalidation_1-rmse:0.398188\n",
      "[65]\tvalidation_0-rmse:0.38965\tvalidation_1-rmse:0.398121\n",
      "[66]\tvalidation_0-rmse:0.389347\tvalidation_1-rmse:0.398073\n",
      "[67]\tvalidation_0-rmse:0.389167\tvalidation_1-rmse:0.398012\n",
      "[68]\tvalidation_0-rmse:0.3889\tvalidation_1-rmse:0.397926\n",
      "[69]\tvalidation_0-rmse:0.388709\tvalidation_1-rmse:0.397834\n",
      "[70]\tvalidation_0-rmse:0.388415\tvalidation_1-rmse:0.39779\n",
      "[71]\tvalidation_0-rmse:0.388262\tvalidation_1-rmse:0.397761\n",
      "[72]\tvalidation_0-rmse:0.388034\tvalidation_1-rmse:0.397772\n",
      "[73]\tvalidation_0-rmse:0.387897\tvalidation_1-rmse:0.397767\n",
      "[74]\tvalidation_0-rmse:0.387813\tvalidation_1-rmse:0.397697\n",
      "[75]\tvalidation_0-rmse:0.387502\tvalidation_1-rmse:0.397612\n",
      "[76]\tvalidation_0-rmse:0.387251\tvalidation_1-rmse:0.397512\n",
      "[77]\tvalidation_0-rmse:0.387069\tvalidation_1-rmse:0.397476\n",
      "[78]\tvalidation_0-rmse:0.386759\tvalidation_1-rmse:0.397259\n",
      "[79]\tvalidation_0-rmse:0.38657\tvalidation_1-rmse:0.397242\n",
      "[80]\tvalidation_0-rmse:0.386338\tvalidation_1-rmse:0.397179\n",
      "[81]\tvalidation_0-rmse:0.385902\tvalidation_1-rmse:0.397024\n",
      "[82]\tvalidation_0-rmse:0.385709\tvalidation_1-rmse:0.396974\n",
      "[83]\tvalidation_0-rmse:0.385576\tvalidation_1-rmse:0.39693\n",
      "[84]\tvalidation_0-rmse:0.385328\tvalidation_1-rmse:0.396923\n",
      "[85]\tvalidation_0-rmse:0.385204\tvalidation_1-rmse:0.396876\n",
      "[86]\tvalidation_0-rmse:0.384992\tvalidation_1-rmse:0.396762\n",
      "[87]\tvalidation_0-rmse:0.384883\tvalidation_1-rmse:0.396726\n",
      "[88]\tvalidation_0-rmse:0.38472\tvalidation_1-rmse:0.396597\n",
      "[89]\tvalidation_0-rmse:0.384453\tvalidation_1-rmse:0.396616\n",
      "[90]\tvalidation_0-rmse:0.384105\tvalidation_1-rmse:0.396522\n",
      "[91]\tvalidation_0-rmse:0.383984\tvalidation_1-rmse:0.396461\n",
      "[92]\tvalidation_0-rmse:0.383797\tvalidation_1-rmse:0.396392\n",
      "[93]\tvalidation_0-rmse:0.383677\tvalidation_1-rmse:0.396403\n",
      "[94]\tvalidation_0-rmse:0.383548\tvalidation_1-rmse:0.396373\n",
      "[95]\tvalidation_0-rmse:0.38343\tvalidation_1-rmse:0.396309\n",
      "[96]\tvalidation_0-rmse:0.38322\tvalidation_1-rmse:0.396317\n",
      "[97]\tvalidation_0-rmse:0.383077\tvalidation_1-rmse:0.396399\n",
      "[98]\tvalidation_0-rmse:0.382812\tvalidation_1-rmse:0.396354\n",
      "[99]\tvalidation_0-rmse:0.382605\tvalidation_1-rmse:0.396335\n",
      "[100]\tvalidation_0-rmse:0.382397\tvalidation_1-rmse:0.396315\n",
      "[101]\tvalidation_0-rmse:0.382293\tvalidation_1-rmse:0.396274\n",
      "[102]\tvalidation_0-rmse:0.382141\tvalidation_1-rmse:0.396254\n",
      "[103]\tvalidation_0-rmse:0.381946\tvalidation_1-rmse:0.396145\n",
      "[104]\tvalidation_0-rmse:0.381846\tvalidation_1-rmse:0.396144\n",
      "[105]\tvalidation_0-rmse:0.381747\tvalidation_1-rmse:0.396134\n",
      "[106]\tvalidation_0-rmse:0.381622\tvalidation_1-rmse:0.39619\n",
      "[107]\tvalidation_0-rmse:0.381457\tvalidation_1-rmse:0.396179\n",
      "[108]\tvalidation_0-rmse:0.381216\tvalidation_1-rmse:0.396157\n",
      "[109]\tvalidation_0-rmse:0.381018\tvalidation_1-rmse:0.396095\n",
      "[110]\tvalidation_0-rmse:0.380749\tvalidation_1-rmse:0.396075\n",
      "[111]\tvalidation_0-rmse:0.380527\tvalidation_1-rmse:0.39605\n",
      "[112]\tvalidation_0-rmse:0.38038\tvalidation_1-rmse:0.396056\n",
      "[113]\tvalidation_0-rmse:0.380287\tvalidation_1-rmse:0.396052\n",
      "[114]\tvalidation_0-rmse:0.380065\tvalidation_1-rmse:0.395918\n",
      "[115]\tvalidation_0-rmse:0.379951\tvalidation_1-rmse:0.395916\n",
      "[116]\tvalidation_0-rmse:0.379862\tvalidation_1-rmse:0.395843\n",
      "[117]\tvalidation_0-rmse:0.379692\tvalidation_1-rmse:0.395735\n",
      "[118]\tvalidation_0-rmse:0.379564\tvalidation_1-rmse:0.3956\n",
      "[119]\tvalidation_0-rmse:0.37937\tvalidation_1-rmse:0.39558\n",
      "[120]\tvalidation_0-rmse:0.379313\tvalidation_1-rmse:0.395552\n",
      "[121]\tvalidation_0-rmse:0.379098\tvalidation_1-rmse:0.395534\n",
      "[122]\tvalidation_0-rmse:0.378954\tvalidation_1-rmse:0.395573\n",
      "[123]\tvalidation_0-rmse:0.378832\tvalidation_1-rmse:0.395533\n",
      "[124]\tvalidation_0-rmse:0.378743\tvalidation_1-rmse:0.395542\n",
      "[125]\tvalidation_0-rmse:0.378558\tvalidation_1-rmse:0.395552\n",
      "[126]\tvalidation_0-rmse:0.378408\tvalidation_1-rmse:0.395541\n",
      "[127]\tvalidation_0-rmse:0.37803\tvalidation_1-rmse:0.395436\n",
      "[128]\tvalidation_0-rmse:0.377802\tvalidation_1-rmse:0.395389\n",
      "[129]\tvalidation_0-rmse:0.377715\tvalidation_1-rmse:0.395343\n",
      "[130]\tvalidation_0-rmse:0.37757\tvalidation_1-rmse:0.395277\n",
      "[131]\tvalidation_0-rmse:0.377416\tvalidation_1-rmse:0.39529\n",
      "[132]\tvalidation_0-rmse:0.377325\tvalidation_1-rmse:0.39532\n",
      "[133]\tvalidation_0-rmse:0.377063\tvalidation_1-rmse:0.395216\n",
      "[134]\tvalidation_0-rmse:0.376914\tvalidation_1-rmse:0.395159\n",
      "[135]\tvalidation_0-rmse:0.376684\tvalidation_1-rmse:0.395123\n",
      "[136]\tvalidation_0-rmse:0.376457\tvalidation_1-rmse:0.395053\n"
     ]
    },
    {
     "name": "stdout",
     "output_type": "stream",
     "text": [
      "[137]\tvalidation_0-rmse:0.376332\tvalidation_1-rmse:0.394997\n",
      "[138]\tvalidation_0-rmse:0.376212\tvalidation_1-rmse:0.395106\n",
      "[139]\tvalidation_0-rmse:0.376062\tvalidation_1-rmse:0.395083\n",
      "[140]\tvalidation_0-rmse:0.37602\tvalidation_1-rmse:0.395065\n",
      "[141]\tvalidation_0-rmse:0.375711\tvalidation_1-rmse:0.395072\n",
      "[142]\tvalidation_0-rmse:0.375522\tvalidation_1-rmse:0.395048\n",
      "[143]\tvalidation_0-rmse:0.375437\tvalidation_1-rmse:0.394998\n",
      "[144]\tvalidation_0-rmse:0.375367\tvalidation_1-rmse:0.394971\n",
      "[145]\tvalidation_0-rmse:0.375208\tvalidation_1-rmse:0.394945\n",
      "[146]\tvalidation_0-rmse:0.375017\tvalidation_1-rmse:0.39495\n",
      "[147]\tvalidation_0-rmse:0.374868\tvalidation_1-rmse:0.394942\n",
      "[148]\tvalidation_0-rmse:0.374728\tvalidation_1-rmse:0.394914\n",
      "[149]\tvalidation_0-rmse:0.374571\tvalidation_1-rmse:0.394895\n",
      "[150]\tvalidation_0-rmse:0.374273\tvalidation_1-rmse:0.394946\n",
      "[151]\tvalidation_0-rmse:0.374179\tvalidation_1-rmse:0.39492\n",
      "[152]\tvalidation_0-rmse:0.373985\tvalidation_1-rmse:0.394912\n",
      "[153]\tvalidation_0-rmse:0.37354\tvalidation_1-rmse:0.394793\n",
      "[154]\tvalidation_0-rmse:0.373406\tvalidation_1-rmse:0.394796\n",
      "[155]\tvalidation_0-rmse:0.373328\tvalidation_1-rmse:0.394759\n",
      "[156]\tvalidation_0-rmse:0.373192\tvalidation_1-rmse:0.394711\n",
      "[157]\tvalidation_0-rmse:0.373088\tvalidation_1-rmse:0.394721\n",
      "[158]\tvalidation_0-rmse:0.373051\tvalidation_1-rmse:0.394696\n",
      "[159]\tvalidation_0-rmse:0.372962\tvalidation_1-rmse:0.3947\n",
      "[160]\tvalidation_0-rmse:0.372817\tvalidation_1-rmse:0.394694\n",
      "[161]\tvalidation_0-rmse:0.372702\tvalidation_1-rmse:0.394677\n",
      "[162]\tvalidation_0-rmse:0.372622\tvalidation_1-rmse:0.394649\n",
      "[163]\tvalidation_0-rmse:0.372509\tvalidation_1-rmse:0.394652\n",
      "[164]\tvalidation_0-rmse:0.372439\tvalidation_1-rmse:0.394685\n",
      "[165]\tvalidation_0-rmse:0.372187\tvalidation_1-rmse:0.3947\n",
      "[166]\tvalidation_0-rmse:0.37192\tvalidation_1-rmse:0.394718\n",
      "[167]\tvalidation_0-rmse:0.371685\tvalidation_1-rmse:0.394611\n",
      "[168]\tvalidation_0-rmse:0.371643\tvalidation_1-rmse:0.39461\n",
      "[169]\tvalidation_0-rmse:0.371526\tvalidation_1-rmse:0.394641\n",
      "[170]\tvalidation_0-rmse:0.37148\tvalidation_1-rmse:0.394629\n",
      "[171]\tvalidation_0-rmse:0.371405\tvalidation_1-rmse:0.394609\n",
      "[172]\tvalidation_0-rmse:0.371273\tvalidation_1-rmse:0.394511\n",
      "[173]\tvalidation_0-rmse:0.371121\tvalidation_1-rmse:0.394442\n",
      "[174]\tvalidation_0-rmse:0.370883\tvalidation_1-rmse:0.394384\n",
      "[175]\tvalidation_0-rmse:0.370775\tvalidation_1-rmse:0.394366\n",
      "[176]\tvalidation_0-rmse:0.370646\tvalidation_1-rmse:0.394359\n",
      "[177]\tvalidation_0-rmse:0.370465\tvalidation_1-rmse:0.394342\n",
      "[178]\tvalidation_0-rmse:0.370203\tvalidation_1-rmse:0.394279\n",
      "[179]\tvalidation_0-rmse:0.370036\tvalidation_1-rmse:0.394261\n",
      "[180]\tvalidation_0-rmse:0.369862\tvalidation_1-rmse:0.394348\n",
      "[181]\tvalidation_0-rmse:0.369818\tvalidation_1-rmse:0.394328\n",
      "[182]\tvalidation_0-rmse:0.369754\tvalidation_1-rmse:0.394329\n",
      "[183]\tvalidation_0-rmse:0.369456\tvalidation_1-rmse:0.39428\n",
      "[184]\tvalidation_0-rmse:0.369256\tvalidation_1-rmse:0.394241\n",
      "[185]\tvalidation_0-rmse:0.369072\tvalidation_1-rmse:0.394193\n",
      "[186]\tvalidation_0-rmse:0.368966\tvalidation_1-rmse:0.394182\n",
      "[187]\tvalidation_0-rmse:0.368895\tvalidation_1-rmse:0.394155\n",
      "[188]\tvalidation_0-rmse:0.368668\tvalidation_1-rmse:0.394058\n",
      "[189]\tvalidation_0-rmse:0.368389\tvalidation_1-rmse:0.394071\n",
      "[190]\tvalidation_0-rmse:0.368219\tvalidation_1-rmse:0.394051\n",
      "[191]\tvalidation_0-rmse:0.368128\tvalidation_1-rmse:0.394047\n",
      "[192]\tvalidation_0-rmse:0.368015\tvalidation_1-rmse:0.39404\n",
      "[193]\tvalidation_0-rmse:0.367897\tvalidation_1-rmse:0.394082\n",
      "[194]\tvalidation_0-rmse:0.367753\tvalidation_1-rmse:0.394105\n",
      "[195]\tvalidation_0-rmse:0.367627\tvalidation_1-rmse:0.394102\n",
      "[196]\tvalidation_0-rmse:0.367523\tvalidation_1-rmse:0.394033\n",
      "[197]\tvalidation_0-rmse:0.367469\tvalidation_1-rmse:0.394073\n",
      "[198]\tvalidation_0-rmse:0.367322\tvalidation_1-rmse:0.394113\n",
      "[199]\tvalidation_0-rmse:0.367195\tvalidation_1-rmse:0.394088\n",
      "[200]\tvalidation_0-rmse:0.366892\tvalidation_1-rmse:0.394029\n",
      "[201]\tvalidation_0-rmse:0.366818\tvalidation_1-rmse:0.394028\n",
      "[202]\tvalidation_0-rmse:0.366741\tvalidation_1-rmse:0.39405\n",
      "[203]\tvalidation_0-rmse:0.366642\tvalidation_1-rmse:0.39403\n",
      "[204]\tvalidation_0-rmse:0.366581\tvalidation_1-rmse:0.394025\n",
      "[205]\tvalidation_0-rmse:0.366516\tvalidation_1-rmse:0.393997\n",
      "[206]\tvalidation_0-rmse:0.366429\tvalidation_1-rmse:0.394007\n",
      "[207]\tvalidation_0-rmse:0.366386\tvalidation_1-rmse:0.393979\n",
      "[208]\tvalidation_0-rmse:0.366359\tvalidation_1-rmse:0.393973\n",
      "[209]\tvalidation_0-rmse:0.36623\tvalidation_1-rmse:0.393988\n",
      "[210]\tvalidation_0-rmse:0.365849\tvalidation_1-rmse:0.394028\n",
      "[211]\tvalidation_0-rmse:0.365618\tvalidation_1-rmse:0.394054\n",
      "[212]\tvalidation_0-rmse:0.365524\tvalidation_1-rmse:0.394049\n",
      "[213]\tvalidation_0-rmse:0.365425\tvalidation_1-rmse:0.39408\n",
      "[214]\tvalidation_0-rmse:0.365275\tvalidation_1-rmse:0.394056\n",
      "[215]\tvalidation_0-rmse:0.364997\tvalidation_1-rmse:0.393993\n",
      "[216]\tvalidation_0-rmse:0.36491\tvalidation_1-rmse:0.393939\n",
      "[217]\tvalidation_0-rmse:0.364622\tvalidation_1-rmse:0.393988\n",
      "[218]\tvalidation_0-rmse:0.364355\tvalidation_1-rmse:0.394069\n",
      "[219]\tvalidation_0-rmse:0.364326\tvalidation_1-rmse:0.394056\n",
      "[220]\tvalidation_0-rmse:0.36423\tvalidation_1-rmse:0.39406\n",
      "[221]\tvalidation_0-rmse:0.364108\tvalidation_1-rmse:0.393993\n",
      "[222]\tvalidation_0-rmse:0.36399\tvalidation_1-rmse:0.393969\n",
      "[223]\tvalidation_0-rmse:0.36383\tvalidation_1-rmse:0.393861\n",
      "[224]\tvalidation_0-rmse:0.363783\tvalidation_1-rmse:0.39389\n",
      "[225]\tvalidation_0-rmse:0.36364\tvalidation_1-rmse:0.393809\n",
      "[226]\tvalidation_0-rmse:0.363538\tvalidation_1-rmse:0.393799\n",
      "[227]\tvalidation_0-rmse:0.363507\tvalidation_1-rmse:0.393793\n",
      "[228]\tvalidation_0-rmse:0.363379\tvalidation_1-rmse:0.39379\n",
      "[229]\tvalidation_0-rmse:0.363278\tvalidation_1-rmse:0.393745\n",
      "[230]\tvalidation_0-rmse:0.363245\tvalidation_1-rmse:0.393727\n",
      "[231]\tvalidation_0-rmse:0.363126\tvalidation_1-rmse:0.393739\n",
      "[232]\tvalidation_0-rmse:0.362811\tvalidation_1-rmse:0.39382\n",
      "[233]\tvalidation_0-rmse:0.362555\tvalidation_1-rmse:0.393852\n",
      "[234]\tvalidation_0-rmse:0.362434\tvalidation_1-rmse:0.393849\n",
      "[235]\tvalidation_0-rmse:0.362359\tvalidation_1-rmse:0.393822\n",
      "[236]\tvalidation_0-rmse:0.36228\tvalidation_1-rmse:0.393778\n",
      "[237]\tvalidation_0-rmse:0.362206\tvalidation_1-rmse:0.393831\n",
      "[238]\tvalidation_0-rmse:0.362166\tvalidation_1-rmse:0.393874\n",
      "[239]\tvalidation_0-rmse:0.362092\tvalidation_1-rmse:0.393847\n",
      "[240]\tvalidation_0-rmse:0.361988\tvalidation_1-rmse:0.393812\n",
      "[241]\tvalidation_0-rmse:0.36195\tvalidation_1-rmse:0.393791\n",
      "[242]\tvalidation_0-rmse:0.361654\tvalidation_1-rmse:0.393879\n",
      "[243]\tvalidation_0-rmse:0.361566\tvalidation_1-rmse:0.393832\n",
      "[244]\tvalidation_0-rmse:0.361421\tvalidation_1-rmse:0.393823\n",
      "[245]\tvalidation_0-rmse:0.361182\tvalidation_1-rmse:0.393779\n",
      "[246]\tvalidation_0-rmse:0.361167\tvalidation_1-rmse:0.393781\n",
      "[247]\tvalidation_0-rmse:0.361064\tvalidation_1-rmse:0.393795\n",
      "[248]\tvalidation_0-rmse:0.360971\tvalidation_1-rmse:0.393762\n",
      "[249]\tvalidation_0-rmse:0.360897\tvalidation_1-rmse:0.39383\n",
      "[250]\tvalidation_0-rmse:0.360759\tvalidation_1-rmse:0.393869\n",
      "Stopping. Best iteration:\n",
      "[230]\tvalidation_0-rmse:0.363245\tvalidation_1-rmse:0.393727\n",
      "\n"
     ]
    }
   ],
   "source": [
    "gbm = xgb.XGBClassifier( \n",
    "                       n_estimators=30000, \n",
    "                       max_depth=4,\n",
    "                       objective=\"binary:logistic\",\n",
    "                       learning_rate=.1, \n",
    "                       subsample=1,\n",
    "                       min_child_weight=1,\n",
    "                       colsample_bytree=.8\n",
    "                      )\n",
    "\n",
    "eval_set=[(X,y),(X_test,y_test)] \n",
    "\n",
    "fit_model = gbm.fit( \n",
    "                    X, y, \n",
    "                    eval_set=eval_set,\n",
    "                    eval_metric='rmse',\n",
    "                    early_stopping_rounds=20\n",
    "                   )"
   ]
  },
  {
   "cell_type": "code",
   "execution_count": 59,
   "metadata": {
    "ExecuteTime": {
     "end_time": "2019-09-25T16:48:40.661382Z",
     "start_time": "2019-09-25T16:48:40.629986Z"
    }
   },
   "outputs": [
    {
     "name": "stdout",
     "output_type": "stream",
     "text": [
      "Accuracy =  0.7719239746582194\n",
      "F1 Score =  [0.48878924 0.85321888]\n",
      "[[ 327  506]\n",
      " [ 178 1988]]\n"
     ]
    }
   ],
   "source": [
    "best_preds = gbm.predict(X_test, ntree_limit=gbm.best_ntree_limit)\n",
    "\n",
    "print(\"Accuracy = \", accuracy_score(y_test, best_preds))\n",
    "\n",
    "print(\"F1 Score = \", f1_score(y_test, best_preds, average=None))\n",
    "\n",
    "print(confusion_matrix(y_test, best_preds))"
   ]
  },
  {
   "cell_type": "code",
   "execution_count": 60,
   "metadata": {
    "ExecuteTime": {
     "end_time": "2019-09-25T16:48:41.657842Z",
     "start_time": "2019-09-25T16:48:41.655787Z"
    }
   },
   "outputs": [],
   "source": [
    "def rmse(actuals, preds):\n",
    "    return np.sqrt(((actuals - preds) ** 2).mean())"
   ]
  },
  {
   "cell_type": "code",
   "execution_count": 61,
   "metadata": {
    "ExecuteTime": {
     "end_time": "2019-09-25T16:48:42.026302Z",
     "start_time": "2019-09-25T16:48:42.017485Z"
    }
   },
   "outputs": [
    {
     "data": {
      "text/plain": [
       "0.5270287023344757"
      ]
     },
     "execution_count": 61,
     "metadata": {},
     "output_type": "execute_result"
    }
   ],
   "source": [
    "rmse(lr.predict(X_test), y_test)"
   ]
  },
  {
   "cell_type": "code",
   "execution_count": 62,
   "metadata": {
    "ExecuteTime": {
     "end_time": "2019-09-25T16:48:42.235013Z",
     "start_time": "2019-09-25T16:48:42.217671Z"
    }
   },
   "outputs": [
    {
     "data": {
      "text/plain": [
       "0.5063781257802871"
      ]
     },
     "execution_count": 62,
     "metadata": {},
     "output_type": "execute_result"
    }
   ],
   "source": [
    "rmse(tree.predict(X_test), y_test)"
   ]
  },
  {
   "cell_type": "code",
   "execution_count": 63,
   "metadata": {
    "ExecuteTime": {
     "end_time": "2019-09-25T16:48:42.793535Z",
     "start_time": "2019-09-25T16:48:42.383839Z"
    }
   },
   "outputs": [
    {
     "data": {
      "text/plain": [
       "0.5511514516363722"
      ]
     },
     "execution_count": 63,
     "metadata": {},
     "output_type": "execute_result"
    }
   ],
   "source": [
    "rmse(knn.predict(X_test), y_test)"
   ]
  },
  {
   "cell_type": "code",
   "execution_count": 64,
   "metadata": {
    "ExecuteTime": {
     "end_time": "2019-09-25T16:48:42.804756Z",
     "start_time": "2019-09-25T16:48:42.795051Z"
    }
   },
   "outputs": [
    {
     "data": {
      "text/plain": [
       "0.5295534051786581"
      ]
     },
     "execution_count": 64,
     "metadata": {},
     "output_type": "execute_result"
    }
   ],
   "source": [
    "rmse(nb.predict(X_test), y_test)"
   ]
  },
  {
   "cell_type": "code",
   "execution_count": 65,
   "metadata": {
    "ExecuteTime": {
     "end_time": "2019-09-25T16:48:42.867160Z",
     "start_time": "2019-09-25T16:48:42.806956Z"
    }
   },
   "outputs": [
    {
     "data": {
      "text/plain": [
       "0.4775730575961971"
      ]
     },
     "execution_count": 65,
     "metadata": {},
     "output_type": "execute_result"
    }
   ],
   "source": [
    "rmse(gbm.predict(X_test, ntree_limit=gbm.best_ntree_limit),y_test)"
   ]
  },
  {
   "cell_type": "code",
   "execution_count": 66,
   "metadata": {
    "ExecuteTime": {
     "end_time": "2019-09-25T16:48:42.981549Z",
     "start_time": "2019-09-25T16:48:42.951603Z"
    }
   },
   "outputs": [
    {
     "name": "stdout",
     "output_type": "stream",
     "text": [
      "              precision    recall  f1-score   support\n",
      "\n",
      "           0       0.65      0.39      0.49       833\n",
      "           1       0.80      0.92      0.85      2166\n",
      "\n",
      "    accuracy                           0.77      2999\n",
      "   macro avg       0.72      0.66      0.67      2999\n",
      "weighted avg       0.76      0.77      0.75      2999\n",
      "\n"
     ]
    }
   ],
   "source": [
    "print(classification_report(y_test, gbm.predict(X_test)))"
   ]
  },
  {
   "cell_type": "markdown",
   "metadata": {},
   "source": [
    "# Cross Validation Tuning"
   ]
  },
  {
   "cell_type": "code",
   "execution_count": 67,
   "metadata": {
    "ExecuteTime": {
     "end_time": "2019-09-25T16:48:44.862796Z",
     "start_time": "2019-09-25T16:48:44.860910Z"
    }
   },
   "outputs": [],
   "source": [
    "from sklearn.model_selection import KFold, cross_val_score\n",
    "import pprint"
   ]
  },
  {
   "cell_type": "code",
   "execution_count": 68,
   "metadata": {
    "ExecuteTime": {
     "end_time": "2019-09-25T16:48:44.940984Z",
     "start_time": "2019-09-25T16:48:44.918384Z"
    }
   },
   "outputs": [],
   "source": [
    "# As seen from the results in the last section, XGBoost outperformed all other models with minimal adjustments\n",
    "# to hyperparameters.  Here we tweak the model more rigorously, although the method I used is quite \n",
    "# manual and should be more streamlined.  I start with the most impactful hyperparameters first and work my way down.\n",
    "\n",
    "X, y = df.drop(['PetID','Description','AdoptionSpeed','Adopted'], axis=1), df.Adopted\n",
    "\n",
    "X, X_test, y, y_test = train_test_split(X, y, test_size=.2, random_state=42)\n",
    "\n",
    "X, y = np.array(X), np.array(y)"
   ]
  },
  {
   "cell_type": "code",
   "execution_count": 69,
   "metadata": {
    "ExecuteTime": {
     "end_time": "2019-09-25T16:48:44.994072Z",
     "start_time": "2019-09-25T16:48:44.987080Z"
    }
   },
   "outputs": [],
   "source": [
    "# Tuning max_depth\n",
    "\n",
    "def fit_and_score(hyperparameter, X, y):\n",
    "    kf = KFold(n_splits=5, shuffle=True, random_state = 1)\n",
    "\n",
    "    cv_gbm_score = []\n",
    "    gbm_train = []\n",
    "\n",
    "    gbm_roc = []\n",
    "    gbm_roc_train = []\n",
    "\n",
    "    gbm_rmse= []\n",
    "    gbm_rmse_train= []\n",
    "\n",
    "    for train_ind, val_ind in kf.split(X,y):\n",
    "\n",
    "        X_train, y_train = X[train_ind], y[train_ind]\n",
    "        X_val, y_val = X[val_ind], y[val_ind]\n",
    "\n",
    "        gbm = xgb.XGBClassifier( \n",
    "                           n_estimators=30000,\n",
    "                           max_depth=hyperparameter,\n",
    "                           objective=\"binary:logistic\",\n",
    "                           learning_rate=.1, \n",
    "                           subsample=1,\n",
    "                           min_child_weight=1,\n",
    "                           colsample_bytree=.8\n",
    "                          )\n",
    "        eval_set = [(X_train, y_train), (X_val, y_val)]\n",
    "        fit_model = gbm.fit(X_train, y_train, eval_set=eval_set, \\\n",
    "                            eval_metric='rmse',verbose=False, early_stopping_rounds=20)\n",
    "        cv_gbm_score.append(f1_score(y_val, gbm.predict(X_val)))\n",
    "        gbm_train.append(f1_score(y_train, gbm.predict(X_train)))\n",
    "        gbm_roc.append(roc_auc_score(y_val, gbm.predict_proba(X_val)[:,1]))\n",
    "        gbm_roc_train.append(roc_auc_score(y_train, gbm.predict_proba(X_train)[:,1]))\n",
    "        gbm_rmse.append(rmse(y_val, gbm.predict(X_val)))\n",
    "        gbm_rmse_train.append(rmse(y_train, gbm.predict(X_train)))\n",
    "\n",
    "        \n",
    "    F1_train = (f'{np.mean(gbm_train):.3f} +- {np.std(gbm_train):.3f}')\n",
    "    F1_val = (f'{np.mean(cv_gbm_score):.3f} +- {np.std(cv_gbm_score):.3f}')\n",
    "    ROC_train = (f'{np.mean(gbm_roc_train):.3f} +- {np.std(gbm_roc_train):.3f}')\n",
    "    ROC_val = (f'{np.mean(gbm_roc):.3f} +- {np.std(gbm_roc):.3f}')\n",
    "    rmse_train = (f'{np.mean(gbm_rmse_train):.3f} +- {np.std(gbm_rmse_train):.3f}')\n",
    "    rmse_val = (f'{np.mean(gbm_rmse):.3f} +- {np.std(gbm_rmse):.3f}')\n",
    "    \n",
    "    return {'F1 train': F1_train, 'F1 val': F1_val, 'ROC train': ROC_train, 'ROC val': ROC_val,\\\n",
    "            'rmse train': rmse_train, 'rmse val': rmse_val} "
   ]
  },
  {
   "cell_type": "code",
   "execution_count": 70,
   "metadata": {
    "ExecuteTime": {
     "end_time": "2019-09-25T16:50:45.711447Z",
     "start_time": "2019-09-25T16:48:45.039576Z"
    },
    "scrolled": true
   },
   "outputs": [
    {
     "name": "stdout",
     "output_type": "stream",
     "text": [
      "max depth 3: \n",
      "{'F1 train': '0.868 +- 0.002',\n",
      " 'F1 val': '0.846 +- 0.003',\n",
      " 'ROC train': '0.832 +- 0.004',\n",
      " 'ROC val': '0.772 +- 0.006',\n",
      " 'rmse train': '0.455 +- 0.004',\n",
      " 'rmse val': '0.492 +- 0.004'}\n",
      " \n",
      "max depth 4: \n",
      "{'F1 train': '0.879 +- 0.004',\n",
      " 'F1 val': '0.848 +- 0.002',\n",
      " 'ROC train': '0.862 +- 0.010',\n",
      " 'ROC val': '0.775 +- 0.006',\n",
      " 'rmse train': '0.434 +- 0.008',\n",
      " 'rmse val': '0.488 +- 0.004'}\n",
      " \n",
      "max depth 5: \n",
      "{'F1 train': '0.885 +- 0.003',\n",
      " 'F1 val': '0.847 +- 0.003',\n",
      " 'ROC train': '0.877 +- 0.007',\n",
      " 'ROC val': '0.774 +- 0.007',\n",
      " 'rmse train': '0.422 +- 0.005',\n",
      " 'rmse val': '0.490 +- 0.004'}\n",
      " \n",
      "max depth 6: \n",
      "{'F1 train': '0.903 +- 0.007',\n",
      " 'F1 val': '0.847 +- 0.002',\n",
      " 'ROC train': '0.910 +- 0.013',\n",
      " 'ROC val': '0.778 +- 0.007',\n",
      " 'rmse train': '0.387 +- 0.014',\n",
      " 'rmse val': '0.489 +- 0.003'}\n",
      " \n",
      "max depth 7: \n",
      "{'F1 train': '0.922 +- 0.003',\n",
      " 'F1 val': '0.847 +- 0.004',\n",
      " 'ROC train': '0.943 +- 0.005',\n",
      " 'ROC val': '0.777 +- 0.007',\n",
      " 'rmse train': '0.346 +- 0.007',\n",
      " 'rmse val': '0.488 +- 0.007'}\n",
      " \n",
      "max depth 8: \n",
      "{'F1 train': '0.944 +- 0.007',\n",
      " 'F1 val': '0.847 +- 0.003',\n",
      " 'ROC train': '0.971 +- 0.008',\n",
      " 'ROC val': '0.778 +- 0.007',\n",
      " 'rmse train': '0.290 +- 0.019',\n",
      " 'rmse val': '0.488 +- 0.005'}\n",
      " \n"
     ]
    }
   ],
   "source": [
    "# max_depth = 6 produced best results\n",
    "\n",
    "for x in range(3,9):\n",
    "    print(\"max depth \" + str(x) + \": \")\n",
    "    pprint.pprint(fit_and_score(x, X, y))\n",
    "    print(\" \")"
   ]
  },
  {
   "cell_type": "code",
   "execution_count": 71,
   "metadata": {
    "ExecuteTime": {
     "end_time": "2019-09-25T16:50:45.724746Z",
     "start_time": "2019-09-25T16:50:45.712672Z"
    }
   },
   "outputs": [],
   "source": [
    "# Tuning subsample\n",
    "\n",
    "def fit_and_score(hyperparameter, X, y):\n",
    "    kf = KFold(n_splits=5, shuffle=True, random_state = 1)\n",
    "\n",
    "    cv_gbm_score = []\n",
    "    gbm_train = []\n",
    "\n",
    "    gbm_roc = []\n",
    "    gbm_roc_train = []\n",
    "\n",
    "    gbm_rmse= []\n",
    "    gbm_rmse_train= []\n",
    "\n",
    "    for train_ind, val_ind in kf.split(X,y):\n",
    "\n",
    "        X_train, y_train = X[train_ind], y[train_ind]\n",
    "        X_val, y_val = X[val_ind], y[val_ind]\n",
    "\n",
    "        gbm = xgb.XGBClassifier( \n",
    "                           n_estimators=30000,\n",
    "                           max_depth=6,\n",
    "                           objective=\"binary:logistic\",\n",
    "                           learning_rate=.1, \n",
    "                           subsample=hyperparameter,\n",
    "                           min_child_weight=1,\n",
    "                           colsample_bytree=.8\n",
    "                          )\n",
    "        eval_set = [(X_train, y_train), (X_val, y_val)]\n",
    "        fit_model = gbm.fit(X_train, y_train, eval_set=eval_set, \\\n",
    "                            eval_metric='rmse',verbose=False, early_stopping_rounds=20)\n",
    "        cv_gbm_score.append(f1_score(y_val, gbm.predict(X_val)))\n",
    "        gbm_train.append(f1_score(y_train, gbm.predict(X_train)))\n",
    "        gbm_roc.append(roc_auc_score(y_val, gbm.predict_proba(X_val)[:,1]))\n",
    "        gbm_roc_train.append(roc_auc_score(y_train, gbm.predict_proba(X_train)[:,1]))\n",
    "        gbm_rmse.append(rmse(y_val, gbm.predict(X_val)))\n",
    "        gbm_rmse_train.append(rmse(y_train, gbm.predict(X_train)))\n",
    "\n",
    "    F1_train = (f'{np.mean(gbm_train):.3f} +- {np.std(gbm_train):.3f}')\n",
    "    F1_val = (f'{np.mean(cv_gbm_score):.3f} +- {np.std(cv_gbm_score):.3f}')\n",
    "    ROC_train = (f'{np.mean(gbm_roc_train):.3f} +- {np.std(gbm_roc_train):.3f}')\n",
    "    ROC_val = (f'{np.mean(gbm_roc):.3f} +- {np.std(gbm_roc):.3f}')\n",
    "    rmse_train = (f'{np.mean(gbm_rmse_train):.3f} +- {np.std(gbm_rmse_train):.3f}')\n",
    "    rmse_val = (f'{np.mean(gbm_rmse):.3f} +- {np.std(gbm_rmse):.3f}')\n",
    "    \n",
    "    return {'F1 train': F1_train, 'F1 val': F1_val, 'ROC train': ROC_train, 'ROC val': ROC_val,\\\n",
    "            'rmse train': rmse_train, 'rmse val': rmse_val} "
   ]
  },
  {
   "cell_type": "code",
   "execution_count": 72,
   "metadata": {
    "ExecuteTime": {
     "end_time": "2019-09-25T16:51:48.040787Z",
     "start_time": "2019-09-25T16:50:45.726724Z"
    }
   },
   "outputs": [
    {
     "name": "stdout",
     "output_type": "stream",
     "text": [
      "{'F1 train': '0.908 +- 0.006',\n",
      " 'F1 val': '0.848 +- 0.002',\n",
      " 'ROC train': '0.924 +- 0.011',\n",
      " 'ROC val': '0.781 +- 0.005',\n",
      " 'rmse train': '0.374 +- 0.013',\n",
      " 'rmse val': '0.487 +- 0.004'}\n",
      "{'F1 train': '0.910 +- 0.011',\n",
      " 'F1 val': '0.848 +- 0.003',\n",
      " 'ROC train': '0.922 +- 0.019',\n",
      " 'ROC val': '0.780 +- 0.005',\n",
      " 'rmse train': '0.371 +- 0.025',\n",
      " 'rmse val': '0.487 +- 0.003'}\n",
      "{'F1 train': '0.903 +- 0.007',\n",
      " 'F1 val': '0.847 +- 0.002',\n",
      " 'ROC train': '0.910 +- 0.013',\n",
      " 'ROC val': '0.778 +- 0.007',\n",
      " 'rmse train': '0.387 +- 0.014',\n",
      " 'rmse val': '0.489 +- 0.003'}\n"
     ]
    }
   ],
   "source": [
    "# subsample = .9 produced best results\n",
    "\n",
    "for x in [0.8,.9,1]:\n",
    "    pprint.pprint(fit_and_score(x, X, y))"
   ]
  },
  {
   "cell_type": "code",
   "execution_count": 73,
   "metadata": {
    "ExecuteTime": {
     "end_time": "2019-09-25T16:51:48.052664Z",
     "start_time": "2019-09-25T16:51:48.042001Z"
    }
   },
   "outputs": [],
   "source": [
    "# Tuning colsample_bytree\n",
    "\n",
    "def fit_and_score(hyperparameter, X, y):\n",
    "    kf = KFold(n_splits=5, shuffle=True, random_state = 1)\n",
    "\n",
    "    cv_gbm_score = []\n",
    "    gbm_train = []\n",
    "\n",
    "    gbm_roc = []\n",
    "    gbm_roc_train = []\n",
    "\n",
    "    gbm_rmse= []\n",
    "    gbm_rmse_train= []\n",
    "\n",
    "    for train_ind, val_ind in kf.split(X,y):\n",
    "\n",
    "        X_train, y_train = X[train_ind], y[train_ind]\n",
    "        X_val, y_val = X[val_ind], y[val_ind]\n",
    "\n",
    "        gbm = xgb.XGBClassifier( \n",
    "                           n_estimators=10000,\n",
    "                           max_depth=6,\n",
    "                           objective=\"binary:logistic\",\n",
    "                           learning_rate=.1, \n",
    "                           subsample=.9,\n",
    "                           min_child_weight=1,\n",
    "                           colsample_bytree=hyperparameter\n",
    "                          )\n",
    "        eval_set = [(X_train, y_train), (X_val, y_val)]\n",
    "        fit_model = gbm.fit(X_train, y_train, eval_set=eval_set, \\\n",
    "                            eval_metric='rmse',verbose=False, early_stopping_rounds=20)\n",
    "        cv_gbm_score.append(f1_score(y_val, gbm.predict(X_val)))\n",
    "        gbm_train.append(f1_score(y_train, gbm.predict(X_train)))\n",
    "        gbm_roc.append(roc_auc_score(y_val, gbm.predict_proba(X_val)[:,1]))\n",
    "        gbm_roc_train.append(roc_auc_score(y_train, gbm.predict_proba(X_train)[:,1]))\n",
    "        gbm_rmse.append(rmse(y_val, gbm.predict(X_val)))\n",
    "        gbm_rmse_train.append(rmse(y_train, gbm.predict(X_train)))\n",
    "\n",
    "    F1_train = (f'{np.mean(gbm_train):.3f} +- {np.std(gbm_train):.3f}')\n",
    "    F1_val = (f'{np.mean(cv_gbm_score):.3f} +- {np.std(cv_gbm_score):.3f}')\n",
    "    ROC_train = (f'{np.mean(gbm_roc_train):.3f} +- {np.std(gbm_roc_train):.3f}')\n",
    "    ROC_val = (f'{np.mean(gbm_roc):.3f} +- {np.std(gbm_roc):.3f}')\n",
    "    rmse_train = (f'{np.mean(gbm_rmse_train):.3f} +- {np.std(gbm_rmse_train):.3f}')\n",
    "    rmse_val = (f'{np.mean(gbm_rmse):.3f} +- {np.std(gbm_rmse):.3f}')\n",
    "    \n",
    "    return {'F1 train': F1_train, 'F1 val': F1_val, 'ROC train': ROC_train, 'ROC val': ROC_val,\\\n",
    "            'rmse train': rmse_train, 'rmse val': rmse_val} "
   ]
  },
  {
   "cell_type": "code",
   "execution_count": 74,
   "metadata": {
    "ExecuteTime": {
     "end_time": "2019-09-25T16:54:00.722396Z",
     "start_time": "2019-09-25T16:51:48.053934Z"
    },
    "scrolled": true
   },
   "outputs": [
    {
     "name": "stdout",
     "output_type": "stream",
     "text": [
      "{'F1 train': '0.916 +- 0.007',\n",
      " 'F1 val': '0.850 +- 0.002',\n",
      " 'ROC train': '0.937 +- 0.011',\n",
      " 'ROC val': '0.779 +- 0.003',\n",
      " 'rmse train': '0.359 +- 0.015',\n",
      " 'rmse val': '0.485 +- 0.003'}\n",
      "{'F1 train': '0.906 +- 0.006',\n",
      " 'F1 val': '0.848 +- 0.002',\n",
      " 'ROC train': '0.918 +- 0.011',\n",
      " 'ROC val': '0.780 +- 0.006',\n",
      " 'rmse train': '0.381 +- 0.013',\n",
      " 'rmse val': '0.488 +- 0.003'}\n",
      "{'F1 train': '0.906 +- 0.007',\n",
      " 'F1 val': '0.848 +- 0.004',\n",
      " 'ROC train': '0.918 +- 0.013',\n",
      " 'ROC val': '0.779 +- 0.007',\n",
      " 'rmse train': '0.381 +- 0.015',\n",
      " 'rmse val': '0.488 +- 0.007'}\n",
      "{'F1 train': '0.915 +- 0.007',\n",
      " 'F1 val': '0.848 +- 0.004',\n",
      " 'ROC train': '0.933 +- 0.014',\n",
      " 'ROC val': '0.779 +- 0.006',\n",
      " 'rmse train': '0.359 +- 0.017',\n",
      " 'rmse val': '0.486 +- 0.005'}\n",
      "{'F1 train': '0.910 +- 0.004',\n",
      " 'F1 val': '0.847 +- 0.004',\n",
      " 'ROC train': '0.924 +- 0.008',\n",
      " 'ROC val': '0.778 +- 0.007',\n",
      " 'rmse train': '0.371 +- 0.010',\n",
      " 'rmse val': '0.489 +- 0.005'}\n",
      "{'F1 train': '0.910 +- 0.011',\n",
      " 'F1 val': '0.848 +- 0.003',\n",
      " 'ROC train': '0.922 +- 0.019',\n",
      " 'ROC val': '0.780 +- 0.005',\n",
      " 'rmse train': '0.371 +- 0.025',\n",
      " 'rmse val': '0.487 +- 0.003'}\n",
      "{'F1 train': '0.911 +- 0.013',\n",
      " 'F1 val': '0.847 +- 0.003',\n",
      " 'ROC train': '0.925 +- 0.023',\n",
      " 'ROC val': '0.778 +- 0.006',\n",
      " 'rmse train': '0.368 +- 0.029',\n",
      " 'rmse val': '0.489 +- 0.006'}\n"
     ]
    }
   ],
   "source": [
    "#  colsample_bytree = .8 produced best results\n",
    "\n",
    "for x in [.3,.4,.5,.6,.7,.8,.9]:\n",
    "    pprint.pprint(fit_and_score(x, X, y))"
   ]
  },
  {
   "cell_type": "markdown",
   "metadata": {},
   "source": [
    "# Final Model and Results"
   ]
  },
  {
   "cell_type": "code",
   "execution_count": 82,
   "metadata": {
    "ExecuteTime": {
     "end_time": "2019-09-25T19:23:32.331854Z",
     "start_time": "2019-09-25T19:23:25.720098Z"
    }
   },
   "outputs": [
    {
     "name": "stdout",
     "output_type": "stream",
     "text": [
      "Accuracy =  0.7809269756585528\n",
      "F1 Score =  0.8586184635248548\n",
      "ROC AUC score =  0.8024151488850388\n",
      "rmse =  0.4680523735026318\n",
      "[[ 347  486]\n",
      " [ 171 1995]]\n"
     ]
    }
   ],
   "source": [
    "# Train final model on 80% of observations, test on 20%\n",
    "\n",
    "X, y = df.drop(['Cat','PetID','Description','AdoptionSpeed','Adopted'], axis=1), df.Adopted\n",
    "\n",
    "X, X_test, y, y_test = train_test_split(X, y, test_size=.2, random_state=42)\n",
    "\n",
    "gbm = xgb.XGBClassifier(n_estimators=10000,\n",
    "                       max_depth=6,\n",
    "                       objective=\"binary:logistic\",\n",
    "                       learning_rate=.1, \n",
    "                       subsample=.9,\n",
    "                       min_child_weight=1,\n",
    "                       colsample_bytree=.8)\n",
    "\n",
    "eval_set=[(X,y),(X_test,y_test)]\n",
    "\n",
    "fit_model = gbm.fit(X, y, \n",
    "                    eval_set=eval_set,\n",
    "                    eval_metric='rmse',\n",
    "                    early_stopping_rounds=20,\n",
    "                    verbose=False)\n",
    "\n",
    "print(\"Accuracy = \", gbm.score(X_test, y_test))\n",
    "\n",
    "y_predict = gbm.predict(X_test)\n",
    "print(\"F1 Score = \", f1_score(y_test, y_predict))\n",
    "\n",
    "fpr, tpr, thresholds = roc_curve(y_test, gbm.predict_proba(X_test)[:,1])\n",
    "print(\"ROC AUC score = \", roc_auc_score(y_test, gbm.predict_proba(X_test)[:,1]))\n",
    "\n",
    "print(\"rmse = \", rmse(y_test, gbm.predict(X_test)))\n",
    "\n",
    "print(confusion_matrix(y_test, gbm.predict(X_test)))"
   ]
  },
  {
   "cell_type": "code",
   "execution_count": 83,
   "metadata": {
    "ExecuteTime": {
     "end_time": "2019-09-25T19:25:38.260682Z",
     "start_time": "2019-09-25T19:25:38.209869Z"
    },
    "scrolled": true
   },
   "outputs": [
    {
     "data": {
      "text/plain": [
       "[('Not_Sterilized', 20.058148943718972),\n",
       " ('Mixed Breed', 18.759450730411764),\n",
       " ('Dog', 14.75421963088636),\n",
       " ('Age', 11.515788504172066),\n",
       " ('Long_Fur', 9.5842514396),\n",
       " ('Melaka', 8.447650442),\n",
       " ('Minor_Injury', 8.148659098888889),\n",
       " ('Quantity', 7.62016980941667),\n",
       " ('Dalmatian', 6.627895355),\n",
       " ('Persian', 6.557071998461536),\n",
       " ('PhotoAmt', 6.461978082837079),\n",
       " ('image_size', 5.5423133532775894),\n",
       " ('Perak', 5.455358605384616),\n",
       " ('Pulau Pinang', 5.386957052289473),\n",
       " ('Terrier', 5.301886247692308),\n",
       " ('Unsure_Sterilized', 5.29457483747059),\n",
       " ('Small_Size', 5.232240890244827),\n",
       " ('Selangor', 5.230404655290323),\n",
       " ('German Shepherd Dog', 5.1946661871428566),\n",
       " ('Rottweiler', 5.160241304347826),\n",
       " ('Labrador Retriever', 5.054260605882353),\n",
       " ('Domestic Short Hair', 5.035708291212122),\n",
       " ('Johor', 4.9977798686111115),\n",
       " ('Negeri Sembilan', 4.9754287625),\n",
       " ('American Shorthair', 4.951621983636363),\n",
       " ('Domestic Long Hair', 4.8987060775),\n",
       " ('Not_Dewormed', 4.814025801999998),\n",
       " ('Bobtail', 4.68378067),\n",
       " ('Oriental Short Hair', 4.677421608125001),\n",
       " ('mixed_breed', 4.6682405474641495),\n",
       " ('Cocker Spaniel', 4.58675957),\n",
       " ('Fee', 4.484029010860129),\n",
       " ('Calico', 4.478043346470588),\n",
       " ('Medium_Size', 4.427572153790695),\n",
       " ('Siamese', 4.407068432857143),\n",
       " ('Beagle', 4.3036206919047615),\n",
       " ('Unsure_Dewormed', 4.277165621636364),\n",
       " ('Healthy', 4.1949351353571425),\n",
       " ('Tabby', 4.154233725),\n",
       " ('description_words', 4.026501634328911),\n",
       " ('Black', 4.023842070846153),\n",
       " ('Male', 4.01049318615238),\n",
       " ('Yes_Sterilized', 3.9981775037000005),\n",
       " ('is_friendly', 3.980118976093023),\n",
       " ('Cream', 3.9792506537368424),\n",
       " ('Short_Fur', 3.9690991292253957),\n",
       " ('other_breed', 3.9606452783333332),\n",
       " ('Yellow', 3.8645254600000003),\n",
       " ('Unsure_Vaccinated', 3.8386836910124993),\n",
       " ('subjectivity', 3.828650937105686),\n",
       " ('Spitz', 3.8073383575000004),\n",
       " ('Domestic Medium Hair', 3.7997187866666664),\n",
       " ('vader_sentiment', 3.7770182132665435),\n",
       " ('Poodle', 3.672390152499999),\n",
       " ('Golden Retriever', 3.67060111),\n",
       " ('is_cute', 3.6663552786666664),\n",
       " ('VideoAmt', 3.662229196909091),\n",
       " ('polarity', 3.658265535467005),\n",
       " ('Mixed_Genders', 3.6571008440434776),\n",
       " ('Large_Size', 3.576376240166667),\n",
       " ('brightness', 3.557501194832756),\n",
       " ('Pahang', 3.538148165),\n",
       " ('Doberman Pinscher', 3.535398673333333),\n",
       " ('Not_Vaccinated', 3.4545920212448973),\n",
       " ('Yes_Vaccinated', 3.44293775625),\n",
       " ('Brown', 3.391457389263159),\n",
       " ('Gray', 3.3770664888709683),\n",
       " ('Sabah', 3.36055756),\n",
       " ('Yes_Dewormed', 3.3275143491448964),\n",
       " ('Schnauzer', 3.1508464090000006),\n",
       " ('Female', 3.055407087199999),\n",
       " ('Belgian Shepherd Malinois', 3.0416341633333333),\n",
       " ('Shih Tzu', 3.0301970428571434),\n",
       " ('White', 2.9869279854042556),\n",
       " ('British Shorthair', 2.983776053333333),\n",
       " ('Terengganu', 2.95237541),\n",
       " ('Sarawak', 2.885190308),\n",
       " ('Bengal', 2.8634851875),\n",
       " ('Kuala Lumpur', 2.824432470347059),\n",
       " ('Golden', 2.8067941175000004),\n",
       " ('Burmese', 2.77918732),\n",
       " ('Maine Coon', 2.698932826666667),\n",
       " ('Serious_Injury', 2.66379976),\n",
       " ('Border Collie', 2.5357385275),\n",
       " ('Dachshund', 2.523166774),\n",
       " ('Extra_Large_Size', 2.510545918888889),\n",
       " ('Medium_Fur', 2.4832384334013797),\n",
       " ('Hound', 2.4591292328571432),\n",
       " ('Chihuahua', 2.4575640659999998),\n",
       " ('Miniature Pinscher', 2.23057997),\n",
       " ('Maltese', 2.16756177),\n",
       " ('Corgi', 1.911182405),\n",
       " ('Kedah', 1.78250134),\n",
       " ('Tuxedo', 1.75135243),\n",
       " ('Singapura', 1.724646616),\n",
       " ('Husky', 1.69958496),\n",
       " ('Ragdoll', 1.54517806)]"
      ]
     },
     "execution_count": 83,
     "metadata": {},
     "output_type": "execute_result"
    }
   ],
   "source": [
    "# List top features according to gain scores\n",
    "\n",
    "sorted(gbm.get_booster().get_score(importance_type='gain').items(), key = lambda x: x[1], reverse=True)"
   ]
  },
  {
   "cell_type": "code",
   "execution_count": 86,
   "metadata": {
    "ExecuteTime": {
     "end_time": "2019-09-25T19:27:40.947067Z",
     "start_time": "2019-09-25T19:27:39.558564Z"
    }
   },
   "outputs": [
    {
     "data": {
      "text/plain": [
       "<matplotlib.axes._subplots.AxesSubplot at 0x7f52ce3ade80>"
      ]
     },
     "execution_count": 86,
     "metadata": {},
     "output_type": "execute_result"
    },
    {
     "data": {
      "image/png": "[encoded data removed]",
      "text/plain": [
       "<Figure size 720x1440 with 1 Axes>"
      ]
     },
     "metadata": {
      "needs_background": "light"
     },
     "output_type": "display_data"
    }
   ],
   "source": [
    "fig, ax = plt.subplots(figsize=(10, 20))\n",
    "\n",
    "xgb.plot_importance(gbm, importance_type='gain', ax=ax)"
   ]
  },
  {
   "cell_type": "code",
   "execution_count": null,
   "metadata": {},
   "outputs": [],
   "source": []
  }
 ],
 "metadata": {
  "kernelspec": {
   "display_name": "Python 3",
   "language": "python",
   "name": "python3"
  },
  "language_info": {
   "codemirror_mode": {
    "name": "ipython",
    "version": 3
   },
   "file_extension": ".py",
   "mimetype": "text/x-python",
   "name": "python",
   "nbconvert_exporter": "python",
   "pygments_lexer": "ipython3",
   "version": "3.6.8"
  },
  "toc": {
   "base_numbering": 1,
   "nav_menu": {},
   "number_sections": true,
   "sideBar": true,
   "skip_h1_title": false,
   "title_cell": "Table of Contents",
   "title_sidebar": "Contents",
   "toc_cell": false,
   "toc_position": {
    "height": "calc(100% - 180px)",
    "left": "10px",
    "top": "150px",
    "width": "208px"
   },
   "toc_section_display": true,
   "toc_window_display": true
  },
  "varInspector": {
   "cols": {
    "lenName": 16,
    "lenType": 16,
    "lenVar": 40
   },
   "kernels_config": {
    "python": {
     "delete_cmd_postfix": "",
     "delete_cmd_prefix": "del ",
     "library": "var_list.py",
     "varRefreshCmd": "print(var_dic_list())"
    },
    "r": {
     "delete_cmd_postfix": ") ",
     "delete_cmd_prefix": "rm(",
     "library": "var_list.r",
     "varRefreshCmd": "cat(var_dic_list()) "
    }
   },
   "types_to_exclude": [
    "module",
    "function",
    "builtin_function_or_method",
    "instance",
    "_Feature"
   ],
   "window_display": false
  }
 },
 "nbformat": 4,
 "nbformat_minor": 2
}
